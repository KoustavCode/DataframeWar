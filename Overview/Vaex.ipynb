{
 "cells": [
  {
   "cell_type": "code",
   "execution_count": 1,
   "metadata": {
    "execution": {
     "iopub.execute_input": "2020-09-30T18:34:19.502746Z",
     "iopub.status.busy": "2020-09-30T18:34:19.501970Z",
     "iopub.status.idle": "2020-09-30T18:34:20.481512Z",
     "shell.execute_reply": "2020-09-30T18:34:20.481004Z",
     "shell.execute_reply.started": "2020-09-30T18:34:19.502561Z"
    }
   },
   "outputs": [],
   "source": [
    "import vaex\n",
    "import numpy as np\n",
    "%matplotlib inline"
   ]
  },
  {
   "cell_type": "code",
   "execution_count": 2,
   "metadata": {
    "execution": {
     "iopub.execute_input": "2020-09-30T18:45:22.913710Z",
     "iopub.status.busy": "2020-09-30T18:45:22.913483Z",
     "iopub.status.idle": "2020-09-30T18:45:33.579397Z",
     "shell.execute_reply": "2020-09-30T18:45:33.578608Z",
     "shell.execute_reply.started": "2020-09-30T18:45:22.913690Z"
    }
   },
   "outputs": [
    {
     "name": "stderr",
     "output_type": "stream",
     "text": [
      "<ipython-input-2-605ec54a6340>:1: DtypeWarning: Columns (6) have mixed types.Specify dtype option on import or set low_memory=False.\n",
      "  df_taxi = vaex.read_csv('/home/koustav/Documents/DataframeWar/Data/yellow_tripdata_2020-01.csv', copy_index=False)\n"
     ]
    }
   ],
   "source": [
    "df_taxi = vaex.read_csv('/home/koustav/Documents/DataframeWar/Data/yellow_tripdata_2020-01.csv', copy_index=False)\n"
   ]
  },
  {
   "cell_type": "code",
   "execution_count": 3,
   "metadata": {
    "execution": {
     "iopub.execute_input": "2020-09-30T18:45:48.920942Z",
     "iopub.status.busy": "2020-09-30T18:45:48.920725Z",
     "iopub.status.idle": "2020-09-30T18:45:48.962025Z",
     "shell.execute_reply": "2020-09-30T18:45:48.961564Z",
     "shell.execute_reply.started": "2020-09-30T18:45:48.920918Z"
    }
   },
   "outputs": [
    {
     "data": {
      "text/html": [
       "<table>\n",
       "<thead>\n",
       "<tr><th>#                                    </th><th>VendorID  </th><th>tpep_pickup_datetime  </th><th>tpep_dropoff_datetime  </th><th>passenger_count  </th><th>trip_distance  </th><th>RatecodeID  </th><th>store_and_fwd_flag  </th><th>PULocationID  </th><th>DOLocationID  </th><th>payment_type  </th><th>fare_amount  </th><th>extra  </th><th>mta_tax  </th><th>tip_amount  </th><th>tolls_amount  </th><th>improvement_surcharge  </th><th>total_amount  </th><th>congestion_surcharge  </th></tr>\n",
       "</thead>\n",
       "<tbody>\n",
       "<tr><td><i style='opacity: 0.6'>0</i>        </td><td>1.0       </td><td>2020-01-01 00:28:15   </td><td>2020-01-01 00:33:03    </td><td>1.0              </td><td>1.2            </td><td>1.0         </td><td>N                   </td><td>238           </td><td>239           </td><td>1.0           </td><td>6.0          </td><td>3.0    </td><td>0.5      </td><td>1.47        </td><td>0.0           </td><td>0.3                    </td><td>11.27         </td><td>2.5                   </td></tr>\n",
       "<tr><td><i style='opacity: 0.6'>1</i>        </td><td>1.0       </td><td>2020-01-01 00:35:39   </td><td>2020-01-01 00:43:04    </td><td>1.0              </td><td>1.2            </td><td>1.0         </td><td>N                   </td><td>239           </td><td>238           </td><td>1.0           </td><td>7.0          </td><td>3.0    </td><td>0.5      </td><td>1.5         </td><td>0.0           </td><td>0.3                    </td><td>12.3          </td><td>2.5                   </td></tr>\n",
       "<tr><td><i style='opacity: 0.6'>2</i>        </td><td>1.0       </td><td>2020-01-01 00:47:41   </td><td>2020-01-01 00:53:52    </td><td>1.0              </td><td>0.6            </td><td>1.0         </td><td>N                   </td><td>238           </td><td>238           </td><td>1.0           </td><td>6.0          </td><td>3.0    </td><td>0.5      </td><td>1.0         </td><td>0.0           </td><td>0.3                    </td><td>10.8          </td><td>2.5                   </td></tr>\n",
       "<tr><td><i style='opacity: 0.6'>3</i>        </td><td>1.0       </td><td>2020-01-01 00:55:23   </td><td>2020-01-01 01:00:14    </td><td>1.0              </td><td>0.8            </td><td>1.0         </td><td>N                   </td><td>238           </td><td>151           </td><td>1.0           </td><td>5.5          </td><td>0.5    </td><td>0.5      </td><td>1.36        </td><td>0.0           </td><td>0.3                    </td><td>8.16          </td><td>0.0                   </td></tr>\n",
       "<tr><td><i style='opacity: 0.6'>4</i>        </td><td>2.0       </td><td>2020-01-01 00:01:58   </td><td>2020-01-01 00:04:16    </td><td>1.0              </td><td>0.0            </td><td>1.0         </td><td>N                   </td><td>193           </td><td>193           </td><td>2.0           </td><td>3.5          </td><td>0.5    </td><td>0.5      </td><td>0.0         </td><td>0.0           </td><td>0.3                    </td><td>4.8           </td><td>0.0                   </td></tr>\n",
       "<tr><td>...                                  </td><td>...       </td><td>...                   </td><td>...                    </td><td>...              </td><td>...            </td><td>...         </td><td>...                 </td><td>...           </td><td>...           </td><td>...           </td><td>...          </td><td>...    </td><td>...      </td><td>...         </td><td>...           </td><td>...                    </td><td>...           </td><td>...                   </td></tr>\n",
       "<tr><td><i style='opacity: 0.6'>6,405,003</i></td><td>nan       </td><td>2020-01-31 22:51:00   </td><td>2020-01-31 23:22:00    </td><td>nan              </td><td>3.24           </td><td>nan         </td><td>nan                 </td><td>237           </td><td>234           </td><td>nan           </td><td>17.59        </td><td>2.75   </td><td>0.5      </td><td>0.0         </td><td>0.0           </td><td>0.3                    </td><td>21.14         </td><td>0.0                   </td></tr>\n",
       "<tr><td><i style='opacity: 0.6'>6,405,004</i></td><td>nan       </td><td>2020-01-31 22:10:00   </td><td>2020-01-31 23:26:00    </td><td>nan              </td><td>22.13          </td><td>nan         </td><td>nan                 </td><td>259           </td><td>45            </td><td>nan           </td><td>46.67        </td><td>2.75   </td><td>0.5      </td><td>0.0         </td><td>12.24         </td><td>0.3                    </td><td>62.46         </td><td>0.0                   </td></tr>\n",
       "<tr><td><i style='opacity: 0.6'>6,405,005</i></td><td>nan       </td><td>2020-01-31 22:50:07   </td><td>2020-01-31 23:17:57    </td><td>nan              </td><td>10.51          </td><td>nan         </td><td>nan                 </td><td>137           </td><td>169           </td><td>nan           </td><td>48.85        </td><td>2.75   </td><td>0.0      </td><td>0.0         </td><td>0.0           </td><td>0.3                    </td><td>51.9          </td><td>0.0                   </td></tr>\n",
       "<tr><td><i style='opacity: 0.6'>6,405,006</i></td><td>nan       </td><td>2020-01-31 22:25:53   </td><td>2020-01-31 22:48:32    </td><td>nan              </td><td>5.49           </td><td>nan         </td><td>nan                 </td><td>50            </td><td>42            </td><td>nan           </td><td>27.17        </td><td>2.75   </td><td>0.0      </td><td>0.0         </td><td>0.0           </td><td>0.3                    </td><td>30.22         </td><td>0.0                   </td></tr>\n",
       "<tr><td><i style='opacity: 0.6'>6,405,007</i></td><td>nan       </td><td>2020-01-31 22:44:00   </td><td>2020-01-31 23:06:00    </td><td>nan              </td><td>11.6           </td><td>nan         </td><td>nan                 </td><td>179           </td><td>205           </td><td>nan           </td><td>54.56        </td><td>2.75   </td><td>0.5      </td><td>0.0         </td><td>0.0           </td><td>0.3                    </td><td>58.11         </td><td>0.0                   </td></tr>\n",
       "</tbody>\n",
       "</table>"
      ],
      "text/plain": [
       "#          VendorID    tpep_pickup_datetime    tpep_dropoff_datetime    passenger_count    trip_distance    RatecodeID    store_and_fwd_flag    PULocationID    DOLocationID    payment_type    fare_amount    extra    mta_tax    tip_amount    tolls_amount    improvement_surcharge    total_amount    congestion_surcharge\n",
       "0          1.0         2020-01-01 00:28:15     2020-01-01 00:33:03      1.0                1.2              1.0           N                     238             239             1.0             6.0            3.0      0.5        1.47          0.0             0.3                      11.27           2.5\n",
       "1          1.0         2020-01-01 00:35:39     2020-01-01 00:43:04      1.0                1.2              1.0           N                     239             238             1.0             7.0            3.0      0.5        1.5           0.0             0.3                      12.3            2.5\n",
       "2          1.0         2020-01-01 00:47:41     2020-01-01 00:53:52      1.0                0.6              1.0           N                     238             238             1.0             6.0            3.0      0.5        1.0           0.0             0.3                      10.8            2.5\n",
       "3          1.0         2020-01-01 00:55:23     2020-01-01 01:00:14      1.0                0.8              1.0           N                     238             151             1.0             5.5            0.5      0.5        1.36          0.0             0.3                      8.16            0.0\n",
       "4          2.0         2020-01-01 00:01:58     2020-01-01 00:04:16      1.0                0.0              1.0           N                     193             193             2.0             3.5            0.5      0.5        0.0           0.0             0.3                      4.8             0.0\n",
       "...        ...         ...                     ...                      ...                ...              ...           ...                   ...             ...             ...             ...            ...      ...        ...           ...             ...                      ...             ...\n",
       "6,405,003  nan         2020-01-31 22:51:00     2020-01-31 23:22:00      nan                3.24             nan           nan                   237             234             nan             17.59          2.75     0.5        0.0           0.0             0.3                      21.14           0.0\n",
       "6,405,004  nan         2020-01-31 22:10:00     2020-01-31 23:26:00      nan                22.13            nan           nan                   259             45              nan             46.67          2.75     0.5        0.0           12.24           0.3                      62.46           0.0\n",
       "6,405,005  nan         2020-01-31 22:50:07     2020-01-31 23:17:57      nan                10.51            nan           nan                   137             169             nan             48.85          2.75     0.0        0.0           0.0             0.3                      51.9            0.0\n",
       "6,405,006  nan         2020-01-31 22:25:53     2020-01-31 22:48:32      nan                5.49             nan           nan                   50              42              nan             27.17          2.75     0.0        0.0           0.0             0.3                      30.22           0.0\n",
       "6,405,007  nan         2020-01-31 22:44:00     2020-01-31 23:06:00      nan                11.6             nan           nan                   179             205             nan             54.56          2.75     0.5        0.0           0.0             0.3                      58.11           0.0"
      ]
     },
     "execution_count": 3,
     "metadata": {},
     "output_type": "execute_result"
    }
   ],
   "source": [
    "df_taxi"
   ]
  },
  {
   "cell_type": "code",
   "execution_count": null,
   "metadata": {},
   "outputs": [],
   "source": []
  }
 ],
 "metadata": {
  "kernelspec": {
   "display_name": "env",
   "language": "python",
   "name": "env"
  },
  "language_info": {
   "codemirror_mode": {
    "name": "ipython",
    "version": 3
   },
   "file_extension": ".py",
   "mimetype": "text/x-python",
   "name": "python",
   "nbconvert_exporter": "python",
   "pygments_lexer": "ipython3",
   "version": "3.8.2"
  }
 },
 "nbformat": 4,
 "nbformat_minor": 4
}
