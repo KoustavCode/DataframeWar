{
 "cells": [
  {
   "cell_type": "markdown",
   "metadata": {
    "execution": {
     "iopub.execute_input": "2020-10-01T16:37:03.041263Z",
     "iopub.status.busy": "2020-10-01T16:37:03.040502Z",
     "iopub.status.idle": "2020-10-01T16:37:03.165486Z",
     "shell.execute_reply": "2020-10-01T16:37:03.164638Z",
     "shell.execute_reply.started": "2020-10-01T16:37:03.041078Z"
    }
   },
   "source": [
    "![title](img/dask.png)"
   ]
  },
  {
   "cell_type": "markdown",
   "metadata": {
    "execution": {
     "iopub.execute_input": "2020-10-04T11:05:15.769260Z",
     "iopub.status.busy": "2020-10-04T11:05:15.769077Z",
     "iopub.status.idle": "2020-10-04T11:05:15.925212Z",
     "shell.execute_reply": "2020-10-04T11:05:15.924073Z",
     "shell.execute_reply.started": "2020-10-04T11:05:15.769213Z"
    }
   },
   "source": [
    "![title](img/parallel.jpg)"
   ]
  },
  {
   "cell_type": "markdown",
   "metadata": {},
   "source": [
    "#### **Dask provides advanced parallelism for analytics, enabling performance at scale for the tools you love**\n",
    "\n",
    "#### **Dask is composed of two parts:**\n",
    "\n",
    "    1. Dynamic task scheduling optimized for computation. This is similar to Airflow, Luigi, Celery, or Make, but optimized for interactive computational workloads.\n",
    "    2. “Big Data” collections like parallel arrays, dataframes, and lists that extend common interfaces like NumPy, Pandas, or Python iterators to larger-than-memory or distributed environments. These parallel collections run on top of dynamic task schedulers.\n",
    "    \n",
    "[detailed information here](https://docs.dask.org/en/latest/)"
   ]
  },
  {
   "cell_type": "markdown",
   "metadata": {
    "execution": {
     "iopub.execute_input": "2020-10-01T17:24:03.419056Z",
     "iopub.status.busy": "2020-10-01T17:24:03.418845Z",
     "iopub.status.idle": "2020-10-01T17:24:03.424867Z",
     "shell.execute_reply": "2020-10-01T17:24:03.424219Z",
     "shell.execute_reply.started": "2020-10-01T17:24:03.419032Z"
    }
   },
   "source": [
    "#### **DASK with all its features:**\n",
    "    • Built in Python\n",
    "    • Scales properly from single laptops to 1000-node clusters\n",
    "    • Leverages and interops with existing Python APIs as much as possible\n",
    "    • Adheres to (Tim Peters') \"Zen of Python\" (https://www.python.org/dev/peps/pep-0020/) ... especially these elements:\n",
    "        ◦ Explicit is better than implicit.\n",
    "        ◦ Simple is better than complex.\n",
    "        ◦ Complex is better than complicated.\n",
    "        ◦ Readability counts. [ed: that goes for docs, too!]\n",
    "        ◦ Special cases aren't special enough to break the rules.\n",
    "        ◦ Although practicality beats purity.\n",
    "        ◦ In the face of ambiguity, refuse the temptation to guess.\n",
    "        ◦ If the implementation is hard to explain, it's a bad idea.\n",
    "        ◦ If the implementation is easy to explain, it may be a good idea.\n",
    "    • While we're borrowing inspiration, it Dask embodies one of Perl's slogans, making easy things easy and hard things possible\n",
    "        ◦ Specifically, it supports common data-parallel abstractions like Pandas and Numpy\n",
    "        ◦ But also allows scheduling arbitary custom computation that doesn't fit a preset mold\n",
    "   \n",
    "\n",
    "    \n"
   ]
  },
  {
   "cell_type": "markdown",
   "metadata": {},
   "source": [
    "#### **Dask emphasizes the following virtues:**\n",
    "\n",
    "\n",
    "    • Familiar: Provides parallelized NumPy array and Pandas DataFrame objects\n",
    "    • Flexible: Provides a task scheduling interface for more custom workloads and integration with other projects.\n",
    "    • Native: Enables distributed computing in pure Python with access to the PyData stack.\n",
    "    • Fast: Operates with low overhead, low latency, and minimal serialization necessary for fast numerical algorithms\n",
    "    • Scales up: Runs resiliently on clusters with 1000s of cores\n",
    "    • Scales down: Trivial to set up and run on a laptop in a single process\n",
    "    • Responsive: Designed with interactive computing in mind, it provides rapid feedback and diagnostics to aid humans."
   ]
  },
  {
   "cell_type": "code",
   "execution_count": 5,
   "metadata": {
    "execution": {
     "iopub.execute_input": "2020-10-04T11:12:35.201257Z",
     "iopub.status.busy": "2020-10-04T11:12:35.201106Z",
     "iopub.status.idle": "2020-10-04T11:12:35.433578Z",
     "shell.execute_reply": "2020-10-04T11:12:35.432985Z",
     "shell.execute_reply.started": "2020-10-04T11:12:35.201242Z"
    }
   },
   "outputs": [],
   "source": [
    "import dask.dataframe as dd\n",
    "\n",
    "ddf = dd.read_csv('/home/koustav/Documents/DataframeWar/Data/yellow_tripdata_2020-01.csv',\n",
    "                       dtype={'RatecodeID': 'float64', 'VendorID': 'float64', 'passenger_count':'float64', 'payment_type': 'float64'},assume_missing=True, blocksize=12e6)"
   ]
  },
  {
   "cell_type": "code",
   "execution_count": 2,
   "metadata": {
    "execution": {
     "iopub.execute_input": "2020-10-03T17:38:58.862601Z",
     "iopub.status.busy": "2020-10-03T17:38:58.862419Z",
     "iopub.status.idle": "2020-10-03T17:38:58.903876Z",
     "shell.execute_reply": "2020-10-03T17:38:58.903402Z",
     "shell.execute_reply.started": "2020-10-03T17:38:58.862573Z"
    }
   },
   "outputs": [
    {
     "data": {
      "text/html": [
       "<div><strong>Dask DataFrame Structure:</strong></div>\n",
       "<div>\n",
       "<style scoped>\n",
       "    .dataframe tbody tr th:only-of-type {\n",
       "        vertical-align: middle;\n",
       "    }\n",
       "\n",
       "    .dataframe tbody tr th {\n",
       "        vertical-align: top;\n",
       "    }\n",
       "\n",
       "    .dataframe thead th {\n",
       "        text-align: right;\n",
       "    }\n",
       "</style>\n",
       "<table border=\"1\" class=\"dataframe\">\n",
       "  <thead>\n",
       "    <tr style=\"text-align: right;\">\n",
       "      <th></th>\n",
       "      <th>VendorID</th>\n",
       "      <th>tpep_pickup_datetime</th>\n",
       "      <th>tpep_dropoff_datetime</th>\n",
       "      <th>passenger_count</th>\n",
       "      <th>trip_distance</th>\n",
       "      <th>RatecodeID</th>\n",
       "      <th>store_and_fwd_flag</th>\n",
       "      <th>PULocationID</th>\n",
       "      <th>DOLocationID</th>\n",
       "      <th>payment_type</th>\n",
       "      <th>fare_amount</th>\n",
       "      <th>extra</th>\n",
       "      <th>mta_tax</th>\n",
       "      <th>tip_amount</th>\n",
       "      <th>tolls_amount</th>\n",
       "      <th>improvement_surcharge</th>\n",
       "      <th>total_amount</th>\n",
       "      <th>congestion_surcharge</th>\n",
       "    </tr>\n",
       "    <tr>\n",
       "      <th>npartitions=50</th>\n",
       "      <th></th>\n",
       "      <th></th>\n",
       "      <th></th>\n",
       "      <th></th>\n",
       "      <th></th>\n",
       "      <th></th>\n",
       "      <th></th>\n",
       "      <th></th>\n",
       "      <th></th>\n",
       "      <th></th>\n",
       "      <th></th>\n",
       "      <th></th>\n",
       "      <th></th>\n",
       "      <th></th>\n",
       "      <th></th>\n",
       "      <th></th>\n",
       "      <th></th>\n",
       "      <th></th>\n",
       "    </tr>\n",
       "  </thead>\n",
       "  <tbody>\n",
       "    <tr>\n",
       "      <th></th>\n",
       "      <td>float64</td>\n",
       "      <td>object</td>\n",
       "      <td>object</td>\n",
       "      <td>float64</td>\n",
       "      <td>float64</td>\n",
       "      <td>float64</td>\n",
       "      <td>object</td>\n",
       "      <td>float64</td>\n",
       "      <td>float64</td>\n",
       "      <td>float64</td>\n",
       "      <td>float64</td>\n",
       "      <td>float64</td>\n",
       "      <td>float64</td>\n",
       "      <td>float64</td>\n",
       "      <td>float64</td>\n",
       "      <td>float64</td>\n",
       "      <td>float64</td>\n",
       "      <td>float64</td>\n",
       "    </tr>\n",
       "    <tr>\n",
       "      <th></th>\n",
       "      <td>...</td>\n",
       "      <td>...</td>\n",
       "      <td>...</td>\n",
       "      <td>...</td>\n",
       "      <td>...</td>\n",
       "      <td>...</td>\n",
       "      <td>...</td>\n",
       "      <td>...</td>\n",
       "      <td>...</td>\n",
       "      <td>...</td>\n",
       "      <td>...</td>\n",
       "      <td>...</td>\n",
       "      <td>...</td>\n",
       "      <td>...</td>\n",
       "      <td>...</td>\n",
       "      <td>...</td>\n",
       "      <td>...</td>\n",
       "      <td>...</td>\n",
       "    </tr>\n",
       "    <tr>\n",
       "      <th>...</th>\n",
       "      <td>...</td>\n",
       "      <td>...</td>\n",
       "      <td>...</td>\n",
       "      <td>...</td>\n",
       "      <td>...</td>\n",
       "      <td>...</td>\n",
       "      <td>...</td>\n",
       "      <td>...</td>\n",
       "      <td>...</td>\n",
       "      <td>...</td>\n",
       "      <td>...</td>\n",
       "      <td>...</td>\n",
       "      <td>...</td>\n",
       "      <td>...</td>\n",
       "      <td>...</td>\n",
       "      <td>...</td>\n",
       "      <td>...</td>\n",
       "      <td>...</td>\n",
       "    </tr>\n",
       "    <tr>\n",
       "      <th></th>\n",
       "      <td>...</td>\n",
       "      <td>...</td>\n",
       "      <td>...</td>\n",
       "      <td>...</td>\n",
       "      <td>...</td>\n",
       "      <td>...</td>\n",
       "      <td>...</td>\n",
       "      <td>...</td>\n",
       "      <td>...</td>\n",
       "      <td>...</td>\n",
       "      <td>...</td>\n",
       "      <td>...</td>\n",
       "      <td>...</td>\n",
       "      <td>...</td>\n",
       "      <td>...</td>\n",
       "      <td>...</td>\n",
       "      <td>...</td>\n",
       "      <td>...</td>\n",
       "    </tr>\n",
       "    <tr>\n",
       "      <th></th>\n",
       "      <td>...</td>\n",
       "      <td>...</td>\n",
       "      <td>...</td>\n",
       "      <td>...</td>\n",
       "      <td>...</td>\n",
       "      <td>...</td>\n",
       "      <td>...</td>\n",
       "      <td>...</td>\n",
       "      <td>...</td>\n",
       "      <td>...</td>\n",
       "      <td>...</td>\n",
       "      <td>...</td>\n",
       "      <td>...</td>\n",
       "      <td>...</td>\n",
       "      <td>...</td>\n",
       "      <td>...</td>\n",
       "      <td>...</td>\n",
       "      <td>...</td>\n",
       "    </tr>\n",
       "  </tbody>\n",
       "</table>\n",
       "</div>\n",
       "<div>Dask Name: try_loc, 100 tasks</div>"
      ],
      "text/plain": [
       "Dask DataFrame Structure:\n",
       "               VendorID tpep_pickup_datetime tpep_dropoff_datetime passenger_count trip_distance RatecodeID store_and_fwd_flag PULocationID DOLocationID payment_type fare_amount    extra  mta_tax tip_amount tolls_amount improvement_surcharge total_amount congestion_surcharge\n",
       "npartitions=50                                                                                                                                                                                                                                                                     \n",
       "                float64               object                object         float64       float64    float64             object      float64      float64      float64     float64  float64  float64    float64      float64               float64      float64              float64\n",
       "                    ...                  ...                   ...             ...           ...        ...                ...          ...          ...          ...         ...      ...      ...        ...          ...                   ...          ...                  ...\n",
       "...                 ...                  ...                   ...             ...           ...        ...                ...          ...          ...          ...         ...      ...      ...        ...          ...                   ...          ...                  ...\n",
       "                    ...                  ...                   ...             ...           ...        ...                ...          ...          ...          ...         ...      ...      ...        ...          ...                   ...          ...                  ...\n",
       "                    ...                  ...                   ...             ...           ...        ...                ...          ...          ...          ...         ...      ...      ...        ...          ...                   ...          ...                  ...\n",
       "Dask Name: try_loc, 100 tasks"
      ]
     },
     "execution_count": 2,
     "metadata": {},
     "output_type": "execute_result"
    }
   ],
   "source": [
    "ddf.loc[0]"
   ]
  },
  {
   "cell_type": "code",
   "execution_count": 3,
   "metadata": {
    "execution": {
     "iopub.execute_input": "2020-10-03T17:39:01.333658Z",
     "iopub.status.busy": "2020-10-03T17:39:01.333499Z",
     "iopub.status.idle": "2020-10-03T17:39:06.296086Z",
     "shell.execute_reply": "2020-10-03T17:39:06.295454Z",
     "shell.execute_reply.started": "2020-10-03T17:39:01.333642Z"
    }
   },
   "outputs": [
    {
     "data": {
      "text/plain": [
       "6405008"
      ]
     },
     "execution_count": 3,
     "metadata": {},
     "output_type": "execute_result"
    }
   ],
   "source": [
    "len(ddf)"
   ]
  },
  {
   "cell_type": "code",
   "execution_count": 4,
   "metadata": {
    "execution": {
     "iopub.execute_input": "2020-10-03T17:39:08.117454Z",
     "iopub.status.busy": "2020-10-03T17:39:08.117288Z",
     "iopub.status.idle": "2020-10-03T17:39:08.129364Z",
     "shell.execute_reply": "2020-10-03T17:39:08.128829Z",
     "shell.execute_reply.started": "2020-10-03T17:39:08.117439Z"
    }
   },
   "outputs": [],
   "source": [
    "ddf_part = dd.read_csv('/home/koustav/Documents/DataframeWar/Data/yellow_tripdata_2020-01.csv',\n",
    "                       dtype={'RatecodeID': 'float64', 'VendorID': 'float64', 'passenger_count':'float64', 'payment_type': 'float64'},assume_missing=True)\n",
    "ddf_part = ddf_part.repartition(npartitions=100)"
   ]
  },
  {
   "cell_type": "code",
   "execution_count": 5,
   "metadata": {
    "execution": {
     "iopub.execute_input": "2020-10-03T17:39:10.755133Z",
     "iopub.status.busy": "2020-10-03T17:39:10.754950Z",
     "iopub.status.idle": "2020-10-03T17:39:15.707111Z",
     "shell.execute_reply": "2020-10-03T17:39:15.706643Z",
     "shell.execute_reply.started": "2020-10-03T17:39:10.755105Z"
    }
   },
   "outputs": [
    {
     "name": "stderr",
     "output_type": "stream",
     "text": [
      "/home/koustav/Documents/DataframeWar/env/lib/python3.8/site-packages/dask/core.py:121: DtypeWarning: Columns (6) have mixed types.Specify dtype option on import or set low_memory=False.\n",
      "  return func(*(_execute_task(a, cache) for a in args))\n"
     ]
    },
    {
     "data": {
      "text/plain": [
       "6405008"
      ]
     },
     "execution_count": 5,
     "metadata": {},
     "output_type": "execute_result"
    }
   ],
   "source": [
    "len(ddf_part)"
   ]
  },
  {
   "cell_type": "code",
   "execution_count": 6,
   "metadata": {
    "execution": {
     "iopub.execute_input": "2020-10-03T17:39:15.708095Z",
     "iopub.status.busy": "2020-10-03T17:39:15.707872Z",
     "iopub.status.idle": "2020-10-03T17:39:15.730924Z",
     "shell.execute_reply": "2020-10-03T17:39:15.730396Z",
     "shell.execute_reply.started": "2020-10-03T17:39:15.708080Z"
    }
   },
   "outputs": [
    {
     "data": {
      "text/html": [
       "<div><strong>Dask DataFrame Structure:</strong></div>\n",
       "<div>\n",
       "<style scoped>\n",
       "    .dataframe tbody tr th:only-of-type {\n",
       "        vertical-align: middle;\n",
       "    }\n",
       "\n",
       "    .dataframe tbody tr th {\n",
       "        vertical-align: top;\n",
       "    }\n",
       "\n",
       "    .dataframe thead th {\n",
       "        text-align: right;\n",
       "    }\n",
       "</style>\n",
       "<table border=\"1\" class=\"dataframe\">\n",
       "  <thead>\n",
       "    <tr style=\"text-align: right;\">\n",
       "      <th></th>\n",
       "      <th>VendorID</th>\n",
       "      <th>tpep_pickup_datetime</th>\n",
       "      <th>tpep_dropoff_datetime</th>\n",
       "      <th>passenger_count</th>\n",
       "      <th>trip_distance</th>\n",
       "      <th>RatecodeID</th>\n",
       "      <th>store_and_fwd_flag</th>\n",
       "      <th>PULocationID</th>\n",
       "      <th>DOLocationID</th>\n",
       "      <th>payment_type</th>\n",
       "      <th>fare_amount</th>\n",
       "      <th>extra</th>\n",
       "      <th>mta_tax</th>\n",
       "      <th>tip_amount</th>\n",
       "      <th>tolls_amount</th>\n",
       "      <th>improvement_surcharge</th>\n",
       "      <th>total_amount</th>\n",
       "      <th>congestion_surcharge</th>\n",
       "    </tr>\n",
       "    <tr>\n",
       "      <th>npartitions=100</th>\n",
       "      <th></th>\n",
       "      <th></th>\n",
       "      <th></th>\n",
       "      <th></th>\n",
       "      <th></th>\n",
       "      <th></th>\n",
       "      <th></th>\n",
       "      <th></th>\n",
       "      <th></th>\n",
       "      <th></th>\n",
       "      <th></th>\n",
       "      <th></th>\n",
       "      <th></th>\n",
       "      <th></th>\n",
       "      <th></th>\n",
       "      <th></th>\n",
       "      <th></th>\n",
       "      <th></th>\n",
       "    </tr>\n",
       "  </thead>\n",
       "  <tbody>\n",
       "    <tr>\n",
       "      <th></th>\n",
       "      <td>float64</td>\n",
       "      <td>object</td>\n",
       "      <td>object</td>\n",
       "      <td>float64</td>\n",
       "      <td>float64</td>\n",
       "      <td>float64</td>\n",
       "      <td>object</td>\n",
       "      <td>float64</td>\n",
       "      <td>float64</td>\n",
       "      <td>float64</td>\n",
       "      <td>float64</td>\n",
       "      <td>float64</td>\n",
       "      <td>float64</td>\n",
       "      <td>float64</td>\n",
       "      <td>float64</td>\n",
       "      <td>float64</td>\n",
       "      <td>float64</td>\n",
       "      <td>float64</td>\n",
       "    </tr>\n",
       "    <tr>\n",
       "      <th></th>\n",
       "      <td>...</td>\n",
       "      <td>...</td>\n",
       "      <td>...</td>\n",
       "      <td>...</td>\n",
       "      <td>...</td>\n",
       "      <td>...</td>\n",
       "      <td>...</td>\n",
       "      <td>...</td>\n",
       "      <td>...</td>\n",
       "      <td>...</td>\n",
       "      <td>...</td>\n",
       "      <td>...</td>\n",
       "      <td>...</td>\n",
       "      <td>...</td>\n",
       "      <td>...</td>\n",
       "      <td>...</td>\n",
       "      <td>...</td>\n",
       "      <td>...</td>\n",
       "    </tr>\n",
       "    <tr>\n",
       "      <th>...</th>\n",
       "      <td>...</td>\n",
       "      <td>...</td>\n",
       "      <td>...</td>\n",
       "      <td>...</td>\n",
       "      <td>...</td>\n",
       "      <td>...</td>\n",
       "      <td>...</td>\n",
       "      <td>...</td>\n",
       "      <td>...</td>\n",
       "      <td>...</td>\n",
       "      <td>...</td>\n",
       "      <td>...</td>\n",
       "      <td>...</td>\n",
       "      <td>...</td>\n",
       "      <td>...</td>\n",
       "      <td>...</td>\n",
       "      <td>...</td>\n",
       "      <td>...</td>\n",
       "    </tr>\n",
       "    <tr>\n",
       "      <th></th>\n",
       "      <td>...</td>\n",
       "      <td>...</td>\n",
       "      <td>...</td>\n",
       "      <td>...</td>\n",
       "      <td>...</td>\n",
       "      <td>...</td>\n",
       "      <td>...</td>\n",
       "      <td>...</td>\n",
       "      <td>...</td>\n",
       "      <td>...</td>\n",
       "      <td>...</td>\n",
       "      <td>...</td>\n",
       "      <td>...</td>\n",
       "      <td>...</td>\n",
       "      <td>...</td>\n",
       "      <td>...</td>\n",
       "      <td>...</td>\n",
       "      <td>...</td>\n",
       "    </tr>\n",
       "    <tr>\n",
       "      <th></th>\n",
       "      <td>...</td>\n",
       "      <td>...</td>\n",
       "      <td>...</td>\n",
       "      <td>...</td>\n",
       "      <td>...</td>\n",
       "      <td>...</td>\n",
       "      <td>...</td>\n",
       "      <td>...</td>\n",
       "      <td>...</td>\n",
       "      <td>...</td>\n",
       "      <td>...</td>\n",
       "      <td>...</td>\n",
       "      <td>...</td>\n",
       "      <td>...</td>\n",
       "      <td>...</td>\n",
       "      <td>...</td>\n",
       "      <td>...</td>\n",
       "      <td>...</td>\n",
       "    </tr>\n",
       "  </tbody>\n",
       "</table>\n",
       "</div>\n",
       "<div>Dask Name: try_loc, 220 tasks</div>"
      ],
      "text/plain": [
       "Dask DataFrame Structure:\n",
       "                VendorID tpep_pickup_datetime tpep_dropoff_datetime passenger_count trip_distance RatecodeID store_and_fwd_flag PULocationID DOLocationID payment_type fare_amount    extra  mta_tax tip_amount tolls_amount improvement_surcharge total_amount congestion_surcharge\n",
       "npartitions=100                                                                                                                                                                                                                                                                     \n",
       "                 float64               object                object         float64       float64    float64             object      float64      float64      float64     float64  float64  float64    float64      float64               float64      float64              float64\n",
       "                     ...                  ...                   ...             ...           ...        ...                ...          ...          ...          ...         ...      ...      ...        ...          ...                   ...          ...                  ...\n",
       "...                  ...                  ...                   ...             ...           ...        ...                ...          ...          ...          ...         ...      ...      ...        ...          ...                   ...          ...                  ...\n",
       "                     ...                  ...                   ...             ...           ...        ...                ...          ...          ...          ...         ...      ...      ...        ...          ...                   ...          ...                  ...\n",
       "                     ...                  ...                   ...             ...           ...        ...                ...          ...          ...          ...         ...      ...      ...        ...          ...                   ...          ...                  ...\n",
       "Dask Name: try_loc, 220 tasks"
      ]
     },
     "execution_count": 6,
     "metadata": {},
     "output_type": "execute_result"
    }
   ],
   "source": [
    "ddf_part.loc[0]"
   ]
  },
  {
   "cell_type": "markdown",
   "metadata": {
    "execution": {
     "iopub.execute_input": "2020-10-03T17:56:13.113883Z",
     "iopub.status.busy": "2020-10-03T17:56:13.113247Z",
     "iopub.status.idle": "2020-10-03T17:56:13.248909Z",
     "shell.execute_reply": "2020-10-03T17:56:13.248306Z",
     "shell.execute_reply.started": "2020-10-03T17:56:13.113813Z"
    }
   },
   "source": [
    "![title](img/dask-dataframe.png)"
   ]
  },
  {
   "cell_type": "code",
   "execution_count": 11,
   "metadata": {
    "execution": {
     "iopub.execute_input": "2020-10-01T20:40:19.128281Z",
     "iopub.status.busy": "2020-10-01T20:40:19.127327Z",
     "iopub.status.idle": "2020-10-01T20:40:19.162476Z",
     "shell.execute_reply": "2020-10-01T20:40:19.161917Z",
     "shell.execute_reply.started": "2020-10-01T20:40:19.128167Z"
    }
   },
   "outputs": [],
   "source": [
    "import dask.dataframe as dd"
   ]
  },
  {
   "cell_type": "code",
   "execution_count": 8,
   "metadata": {
    "execution": {
     "iopub.execute_input": "2020-10-03T18:06:24.043627Z",
     "iopub.status.busy": "2020-10-03T18:06:24.043137Z",
     "iopub.status.idle": "2020-10-03T18:06:24.059103Z",
     "shell.execute_reply": "2020-10-03T18:06:24.058765Z",
     "shell.execute_reply.started": "2020-10-03T18:06:24.043570Z"
    }
   },
   "outputs": [],
   "source": [
    "ddf = dd.read_csv('/home/koustav/Documents/DataframeWar/Data/weather.csv')"
   ]
  },
  {
   "cell_type": "code",
   "execution_count": 16,
   "metadata": {
    "execution": {
     "iopub.execute_input": "2020-10-03T18:09:11.906423Z",
     "iopub.status.busy": "2020-10-03T18:09:11.906277Z",
     "iopub.status.idle": "2020-10-03T18:09:11.924004Z",
     "shell.execute_reply": "2020-10-03T18:09:11.923575Z",
     "shell.execute_reply.started": "2020-10-03T18:09:11.906409Z"
    }
   },
   "outputs": [
    {
     "data": {
      "text/html": [
       "<div><strong>Dask DataFrame Structure:</strong></div>\n",
       "<div>\n",
       "<style scoped>\n",
       "    .dataframe tbody tr th:only-of-type {\n",
       "        vertical-align: middle;\n",
       "    }\n",
       "\n",
       "    .dataframe tbody tr th {\n",
       "        vertical-align: top;\n",
       "    }\n",
       "\n",
       "    .dataframe thead th {\n",
       "        text-align: right;\n",
       "    }\n",
       "</style>\n",
       "<table border=\"1\" class=\"dataframe\">\n",
       "  <thead>\n",
       "    <tr style=\"text-align: right;\">\n",
       "      <th></th>\n",
       "      <th>date</th>\n",
       "      <th>temp</th>\n",
       "      <th>wind</th>\n",
       "      <th>rainfall</th>\n",
       "      <th>humidity</th>\n",
       "    </tr>\n",
       "    <tr>\n",
       "      <th>npartitions=1</th>\n",
       "      <th></th>\n",
       "      <th></th>\n",
       "      <th></th>\n",
       "      <th></th>\n",
       "      <th></th>\n",
       "    </tr>\n",
       "  </thead>\n",
       "  <tbody>\n",
       "    <tr>\n",
       "      <th></th>\n",
       "      <td>int64</td>\n",
       "      <td>float64</td>\n",
       "      <td>float64</td>\n",
       "      <td>float64</td>\n",
       "      <td>float64</td>\n",
       "    </tr>\n",
       "    <tr>\n",
       "      <th></th>\n",
       "      <td>...</td>\n",
       "      <td>...</td>\n",
       "      <td>...</td>\n",
       "      <td>...</td>\n",
       "      <td>...</td>\n",
       "    </tr>\n",
       "  </tbody>\n",
       "</table>\n",
       "</div>\n",
       "<div>Dask Name: try_loc, 2 tasks</div>"
      ],
      "text/plain": [
       "Dask DataFrame Structure:\n",
       "                date     temp     wind rainfall humidity\n",
       "npartitions=1                                           \n",
       "               int64  float64  float64  float64  float64\n",
       "                 ...      ...      ...      ...      ...\n",
       "Dask Name: try_loc, 2 tasks"
      ]
     },
     "execution_count": 16,
     "metadata": {},
     "output_type": "execute_result"
    }
   ],
   "source": [
    "ddf.npartitions\n",
    "len(ddf)\n",
    "ddf.loc[0]"
   ]
  },
  {
   "cell_type": "code",
   "execution_count": 21,
   "metadata": {
    "execution": {
     "iopub.execute_input": "2020-10-03T18:10:15.582339Z",
     "iopub.status.busy": "2020-10-03T18:10:15.582148Z",
     "iopub.status.idle": "2020-10-03T18:10:15.585423Z",
     "shell.execute_reply": "2020-10-03T18:10:15.584870Z",
     "shell.execute_reply.started": "2020-10-03T18:10:15.582323Z"
    }
   },
   "outputs": [],
   "source": [
    "ddf_part = ddf.repartition(npartitions=10)\n"
   ]
  },
  {
   "cell_type": "code",
   "execution_count": 22,
   "metadata": {
    "execution": {
     "iopub.execute_input": "2020-10-03T18:10:16.039001Z",
     "iopub.status.busy": "2020-10-03T18:10:16.038706Z",
     "iopub.status.idle": "2020-10-03T18:10:16.066030Z",
     "shell.execute_reply": "2020-10-03T18:10:16.065098Z",
     "shell.execute_reply.started": "2020-10-03T18:10:16.038968Z"
    }
   },
   "outputs": [
    {
     "data": {
      "text/html": [
       "<div><strong>Dask DataFrame Structure:</strong></div>\n",
       "<div>\n",
       "<style scoped>\n",
       "    .dataframe tbody tr th:only-of-type {\n",
       "        vertical-align: middle;\n",
       "    }\n",
       "\n",
       "    .dataframe tbody tr th {\n",
       "        vertical-align: top;\n",
       "    }\n",
       "\n",
       "    .dataframe thead th {\n",
       "        text-align: right;\n",
       "    }\n",
       "</style>\n",
       "<table border=\"1\" class=\"dataframe\">\n",
       "  <thead>\n",
       "    <tr style=\"text-align: right;\">\n",
       "      <th></th>\n",
       "      <th>date</th>\n",
       "      <th>temp</th>\n",
       "      <th>wind</th>\n",
       "      <th>rainfall</th>\n",
       "      <th>humidity</th>\n",
       "    </tr>\n",
       "    <tr>\n",
       "      <th>npartitions=10</th>\n",
       "      <th></th>\n",
       "      <th></th>\n",
       "      <th></th>\n",
       "      <th></th>\n",
       "      <th></th>\n",
       "    </tr>\n",
       "  </thead>\n",
       "  <tbody>\n",
       "    <tr>\n",
       "      <th></th>\n",
       "      <td>int64</td>\n",
       "      <td>float64</td>\n",
       "      <td>float64</td>\n",
       "      <td>float64</td>\n",
       "      <td>float64</td>\n",
       "    </tr>\n",
       "    <tr>\n",
       "      <th></th>\n",
       "      <td>...</td>\n",
       "      <td>...</td>\n",
       "      <td>...</td>\n",
       "      <td>...</td>\n",
       "      <td>...</td>\n",
       "    </tr>\n",
       "    <tr>\n",
       "      <th>...</th>\n",
       "      <td>...</td>\n",
       "      <td>...</td>\n",
       "      <td>...</td>\n",
       "      <td>...</td>\n",
       "      <td>...</td>\n",
       "    </tr>\n",
       "    <tr>\n",
       "      <th></th>\n",
       "      <td>...</td>\n",
       "      <td>...</td>\n",
       "      <td>...</td>\n",
       "      <td>...</td>\n",
       "      <td>...</td>\n",
       "    </tr>\n",
       "    <tr>\n",
       "      <th></th>\n",
       "      <td>...</td>\n",
       "      <td>...</td>\n",
       "      <td>...</td>\n",
       "      <td>...</td>\n",
       "      <td>...</td>\n",
       "    </tr>\n",
       "  </tbody>\n",
       "</table>\n",
       "</div>\n",
       "<div>Dask Name: try_loc, 22 tasks</div>"
      ],
      "text/plain": [
       "Dask DataFrame Structure:\n",
       "                 date     temp     wind rainfall humidity\n",
       "npartitions=10                                           \n",
       "                int64  float64  float64  float64  float64\n",
       "                  ...      ...      ...      ...      ...\n",
       "...               ...      ...      ...      ...      ...\n",
       "                  ...      ...      ...      ...      ...\n",
       "                  ...      ...      ...      ...      ...\n",
       "Dask Name: try_loc, 22 tasks"
      ]
     },
     "execution_count": 22,
     "metadata": {},
     "output_type": "execute_result"
    }
   ],
   "source": [
    "len(ddf_part)\n",
    "ddf_part.loc[0]"
   ]
  },
  {
   "cell_type": "markdown",
   "metadata": {
    "execution": {
     "iopub.execute_input": "2020-10-03T18:10:21.789926Z",
     "iopub.status.busy": "2020-10-03T18:10:21.789770Z",
     "iopub.status.idle": "2020-10-03T18:10:21.835442Z",
     "shell.execute_reply": "2020-10-03T18:10:21.834646Z",
     "shell.execute_reply.started": "2020-10-03T18:10:21.789910Z"
    }
   },
   "source": [
    "[The perfect formula to set the number of performance](https://stackoverflow.com/questions/44657631/strategy-for-partitioning-dask-dataframes-efficiently)"
   ]
  },
  {
   "cell_type": "code",
   "execution_count": 26,
   "metadata": {
    "execution": {
     "iopub.execute_input": "2020-10-03T18:39:18.980467Z",
     "iopub.status.busy": "2020-10-03T18:39:18.979827Z",
     "iopub.status.idle": "2020-10-03T18:39:19.008188Z",
     "shell.execute_reply": "2020-10-03T18:39:19.007821Z",
     "shell.execute_reply.started": "2020-10-03T18:39:18.980395Z"
    }
   },
   "outputs": [
    {
     "data": {
      "text/plain": [
       "0    <class 'pandas.core.frame.DataFrame'>\n",
       "1    <class 'pandas.core.frame.DataFrame'>\n",
       "2    <class 'pandas.core.frame.DataFrame'>\n",
       "3    <class 'pandas.core.frame.DataFrame'>\n",
       "4    <class 'pandas.core.frame.DataFrame'>\n",
       "5    <class 'pandas.core.frame.DataFrame'>\n",
       "6    <class 'pandas.core.frame.DataFrame'>\n",
       "7    <class 'pandas.core.frame.DataFrame'>\n",
       "8    <class 'pandas.core.frame.DataFrame'>\n",
       "9    <class 'pandas.core.frame.DataFrame'>\n",
       "dtype: object"
      ]
     },
     "execution_count": 26,
     "metadata": {},
     "output_type": "execute_result"
    }
   ],
   "source": [
    "ddf_part.map_partitions(type).compute(assume_missing=True)\n"
   ]
  },
  {
   "cell_type": "code",
   "execution_count": 25,
   "metadata": {
    "execution": {
     "iopub.execute_input": "2020-10-03T18:38:43.647911Z",
     "iopub.status.busy": "2020-10-03T18:38:43.647493Z",
     "iopub.status.idle": "2020-10-03T18:38:43.665946Z",
     "shell.execute_reply": "2020-10-03T18:38:43.665406Z",
     "shell.execute_reply.started": "2020-10-03T18:38:43.647864Z"
    }
   },
   "outputs": [
    {
     "data": {
      "text/html": [
       "<div>\n",
       "<style scoped>\n",
       "    .dataframe tbody tr th:only-of-type {\n",
       "        vertical-align: middle;\n",
       "    }\n",
       "\n",
       "    .dataframe tbody tr th {\n",
       "        vertical-align: top;\n",
       "    }\n",
       "\n",
       "    .dataframe thead th {\n",
       "        text-align: right;\n",
       "    }\n",
       "</style>\n",
       "<table border=\"1\" class=\"dataframe\">\n",
       "  <thead>\n",
       "    <tr style=\"text-align: right;\">\n",
       "      <th></th>\n",
       "      <th>date</th>\n",
       "      <th>temp</th>\n",
       "      <th>wind</th>\n",
       "      <th>rainfall</th>\n",
       "      <th>humidity</th>\n",
       "    </tr>\n",
       "  </thead>\n",
       "  <tbody>\n",
       "    <tr>\n",
       "      <th>0</th>\n",
       "      <td>19900101</td>\n",
       "      <td>28.4</td>\n",
       "      <td>17.96</td>\n",
       "      <td>20.4</td>\n",
       "      <td>32.18</td>\n",
       "    </tr>\n",
       "    <tr>\n",
       "      <th>1</th>\n",
       "      <td>19900102</td>\n",
       "      <td>35.5</td>\n",
       "      <td>2.23</td>\n",
       "      <td>0.0</td>\n",
       "      <td>22.84</td>\n",
       "    </tr>\n",
       "    <tr>\n",
       "      <th>2</th>\n",
       "      <td>19900103</td>\n",
       "      <td>17.4</td>\n",
       "      <td>9.06</td>\n",
       "      <td>0.0</td>\n",
       "      <td>29.38</td>\n",
       "    </tr>\n",
       "    <tr>\n",
       "      <th>3</th>\n",
       "      <td>19900104</td>\n",
       "      <td>28.4</td>\n",
       "      <td>1.57</td>\n",
       "      <td>0.0</td>\n",
       "      <td>26.30</td>\n",
       "    </tr>\n",
       "    <tr>\n",
       "      <th>4</th>\n",
       "      <td>19900105</td>\n",
       "      <td>28.3</td>\n",
       "      <td>0.30</td>\n",
       "      <td>0.0</td>\n",
       "      <td>26.75</td>\n",
       "    </tr>\n",
       "  </tbody>\n",
       "</table>\n",
       "</div>"
      ],
      "text/plain": [
       "       date  temp   wind  rainfall  humidity\n",
       "0  19900101  28.4  17.96      20.4     32.18\n",
       "1  19900102  35.5   2.23       0.0     22.84\n",
       "2  19900103  17.4   9.06       0.0     29.38\n",
       "3  19900104  28.4   1.57       0.0     26.30\n",
       "4  19900105  28.3   0.30       0.0     26.75"
      ]
     },
     "execution_count": 25,
     "metadata": {},
     "output_type": "execute_result"
    }
   ],
   "source": [
    "ddf.head()\n"
   ]
  },
  {
   "cell_type": "code",
   "execution_count": 28,
   "metadata": {
    "execution": {
     "iopub.execute_input": "2020-10-04T05:24:16.846633Z",
     "iopub.status.busy": "2020-10-04T05:24:16.846266Z",
     "iopub.status.idle": "2020-10-04T05:24:16.862000Z",
     "shell.execute_reply": "2020-10-04T05:24:16.861582Z",
     "shell.execute_reply.started": "2020-10-04T05:24:16.846587Z"
    }
   },
   "outputs": [
    {
     "data": {
      "text/html": [
       "<div>\n",
       "<style scoped>\n",
       "    .dataframe tbody tr th:only-of-type {\n",
       "        vertical-align: middle;\n",
       "    }\n",
       "\n",
       "    .dataframe tbody tr th {\n",
       "        vertical-align: top;\n",
       "    }\n",
       "\n",
       "    .dataframe thead th {\n",
       "        text-align: right;\n",
       "    }\n",
       "</style>\n",
       "<table border=\"1\" class=\"dataframe\">\n",
       "  <thead>\n",
       "    <tr style=\"text-align: right;\">\n",
       "      <th></th>\n",
       "      <th>date</th>\n",
       "      <th>temp</th>\n",
       "      <th>wind</th>\n",
       "      <th>rainfall</th>\n",
       "      <th>humidity</th>\n",
       "    </tr>\n",
       "  </thead>\n",
       "  <tbody>\n",
       "    <tr>\n",
       "      <th>0</th>\n",
       "      <td>19900101</td>\n",
       "      <td>28.4</td>\n",
       "      <td>17.96</td>\n",
       "      <td>20.4</td>\n",
       "      <td>32.18</td>\n",
       "    </tr>\n",
       "    <tr>\n",
       "      <th>1</th>\n",
       "      <td>19900102</td>\n",
       "      <td>35.5</td>\n",
       "      <td>2.23</td>\n",
       "      <td>0.0</td>\n",
       "      <td>22.84</td>\n",
       "    </tr>\n",
       "    <tr>\n",
       "      <th>2</th>\n",
       "      <td>19900103</td>\n",
       "      <td>17.4</td>\n",
       "      <td>9.06</td>\n",
       "      <td>0.0</td>\n",
       "      <td>29.38</td>\n",
       "    </tr>\n",
       "    <tr>\n",
       "      <th>3</th>\n",
       "      <td>19900104</td>\n",
       "      <td>28.4</td>\n",
       "      <td>1.57</td>\n",
       "      <td>0.0</td>\n",
       "      <td>26.30</td>\n",
       "    </tr>\n",
       "    <tr>\n",
       "      <th>4</th>\n",
       "      <td>19900105</td>\n",
       "      <td>28.3</td>\n",
       "      <td>0.30</td>\n",
       "      <td>0.0</td>\n",
       "      <td>26.75</td>\n",
       "    </tr>\n",
       "  </tbody>\n",
       "</table>\n",
       "</div>"
      ],
      "text/plain": [
       "       date  temp   wind  rainfall  humidity\n",
       "0  19900101  28.4  17.96      20.4     32.18\n",
       "1  19900102  35.5   2.23       0.0     22.84\n",
       "2  19900103  17.4   9.06       0.0     29.38\n",
       "3  19900104  28.4   1.57       0.0     26.30\n",
       "4  19900105  28.3   0.30       0.0     26.75"
      ]
     },
     "execution_count": 28,
     "metadata": {},
     "output_type": "execute_result"
    }
   ],
   "source": [
    "ddf_part.head()"
   ]
  },
  {
   "cell_type": "markdown",
   "metadata": {},
   "source": [
    "### How does **GROUPBY** happen in **DASK** (distributed framework)?"
   ]
  },
  {
   "cell_type": "markdown",
   "metadata": {
    "execution": {
     "iopub.execute_input": "2020-10-01T17:37:00.961971Z",
     "iopub.status.busy": "2020-10-01T17:37:00.961292Z",
     "iopub.status.idle": "2020-10-01T17:37:00.973946Z",
     "shell.execute_reply": "2020-10-01T17:37:00.971093Z",
     "shell.execute_reply.started": "2020-10-01T17:37:00.961868Z"
    }
   },
   "source": [
    "<!-- ![title](img/panda.png) -->\n",
    "<img src=\"img/panda.png\" width=800 />"
   ]
  },
  {
   "cell_type": "code",
   "execution_count": 9,
   "metadata": {
    "execution": {
     "iopub.execute_input": "2020-10-04T11:14:06.185439Z",
     "iopub.status.busy": "2020-10-04T11:14:06.185284Z",
     "iopub.status.idle": "2020-10-04T11:14:06.192367Z",
     "shell.execute_reply": "2020-10-04T11:14:06.191933Z",
     "shell.execute_reply.started": "2020-10-04T11:14:06.185422Z"
    }
   },
   "outputs": [
    {
     "data": {
      "text/html": [
       "<div>\n",
       "<style scoped>\n",
       "    .dataframe tbody tr th:only-of-type {\n",
       "        vertical-align: middle;\n",
       "    }\n",
       "\n",
       "    .dataframe tbody tr th {\n",
       "        vertical-align: top;\n",
       "    }\n",
       "\n",
       "    .dataframe thead th {\n",
       "        text-align: right;\n",
       "    }\n",
       "</style>\n",
       "<table border=\"1\" class=\"dataframe\">\n",
       "  <thead>\n",
       "    <tr style=\"text-align: right;\">\n",
       "      <th></th>\n",
       "      <th>a</th>\n",
       "      <th>b</th>\n",
       "      <th>c</th>\n",
       "    </tr>\n",
       "  </thead>\n",
       "  <tbody>\n",
       "    <tr>\n",
       "      <th>0</th>\n",
       "      <td>1</td>\n",
       "      <td>1</td>\n",
       "      <td>2</td>\n",
       "    </tr>\n",
       "    <tr>\n",
       "      <th>1</th>\n",
       "      <td>1</td>\n",
       "      <td>3</td>\n",
       "      <td>4</td>\n",
       "    </tr>\n",
       "    <tr>\n",
       "      <th>2</th>\n",
       "      <td>2</td>\n",
       "      <td>10</td>\n",
       "      <td>5</td>\n",
       "    </tr>\n",
       "    <tr>\n",
       "      <th>3</th>\n",
       "      <td>3</td>\n",
       "      <td>3</td>\n",
       "      <td>2</td>\n",
       "    </tr>\n",
       "    <tr>\n",
       "      <th>4</th>\n",
       "      <td>3</td>\n",
       "      <td>2</td>\n",
       "      <td>3</td>\n",
       "    </tr>\n",
       "    <tr>\n",
       "      <th>5</th>\n",
       "      <td>1</td>\n",
       "      <td>1</td>\n",
       "      <td>5</td>\n",
       "    </tr>\n",
       "    <tr>\n",
       "      <th>6</th>\n",
       "      <td>1</td>\n",
       "      <td>3</td>\n",
       "      <td>2</td>\n",
       "    </tr>\n",
       "    <tr>\n",
       "      <th>7</th>\n",
       "      <td>2</td>\n",
       "      <td>10</td>\n",
       "      <td>3</td>\n",
       "    </tr>\n",
       "    <tr>\n",
       "      <th>8</th>\n",
       "      <td>3</td>\n",
       "      <td>3</td>\n",
       "      <td>9</td>\n",
       "    </tr>\n",
       "    <tr>\n",
       "      <th>9</th>\n",
       "      <td>3</td>\n",
       "      <td>3</td>\n",
       "      <td>2</td>\n",
       "    </tr>\n",
       "    <tr>\n",
       "      <th>10</th>\n",
       "      <td>4</td>\n",
       "      <td>12</td>\n",
       "      <td>44</td>\n",
       "    </tr>\n",
       "    <tr>\n",
       "      <th>11</th>\n",
       "      <td>4</td>\n",
       "      <td>0</td>\n",
       "      <td>33</td>\n",
       "    </tr>\n",
       "    <tr>\n",
       "      <th>12</th>\n",
       "      <td>1</td>\n",
       "      <td>9</td>\n",
       "      <td>2</td>\n",
       "    </tr>\n",
       "    <tr>\n",
       "      <th>13</th>\n",
       "      <td>3</td>\n",
       "      <td>2</td>\n",
       "      <td>4</td>\n",
       "    </tr>\n",
       "    <tr>\n",
       "      <th>14</th>\n",
       "      <td>6</td>\n",
       "      <td>4</td>\n",
       "      <td>1</td>\n",
       "    </tr>\n",
       "  </tbody>\n",
       "</table>\n",
       "</div>"
      ],
      "text/plain": [
       "    a   b   c\n",
       "0   1   1   2\n",
       "1   1   3   4\n",
       "2   2  10   5\n",
       "3   3   3   2\n",
       "4   3   2   3\n",
       "5   1   1   5\n",
       "6   1   3   2\n",
       "7   2  10   3\n",
       "8   3   3   9\n",
       "9   3   3   2\n",
       "10  4  12  44\n",
       "11  4   0  33\n",
       "12  1   9   2\n",
       "13  3   2   4\n",
       "14  6   4   1"
      ]
     },
     "execution_count": 9,
     "metadata": {},
     "output_type": "execute_result"
    }
   ],
   "source": [
    "import pandas as pd\n",
    "\n",
    "pdf = pd.DataFrame(dict(a=[1, 1, 2, 3, 3, 1, 1, 2, 3, 3, 4, 4, 1, 3, 6],b=[1, 3, 10, 3, 2, 1, 3, 10, 3, 3, 12, 0, 9, 2, 4],c=[2, 4, 5, 2, 3, 5, 2, 3, 9, 2, 44, 33, 2, 4,1]))\n",
    "pdf"
   ]
  },
  {
   "cell_type": "code",
   "execution_count": 10,
   "metadata": {
    "execution": {
     "iopub.execute_input": "2020-10-04T11:14:09.056864Z",
     "iopub.status.busy": "2020-10-04T11:14:09.056679Z",
     "iopub.status.idle": "2020-10-04T11:14:09.065619Z",
     "shell.execute_reply": "2020-10-04T11:14:09.065155Z",
     "shell.execute_reply.started": "2020-10-04T11:14:09.056834Z"
    }
   },
   "outputs": [
    {
     "data": {
      "text/html": [
       "<div><strong>Dask DataFrame Structure:</strong></div>\n",
       "<div>\n",
       "<style scoped>\n",
       "    .dataframe tbody tr th:only-of-type {\n",
       "        vertical-align: middle;\n",
       "    }\n",
       "\n",
       "    .dataframe tbody tr th {\n",
       "        vertical-align: top;\n",
       "    }\n",
       "\n",
       "    .dataframe thead th {\n",
       "        text-align: right;\n",
       "    }\n",
       "</style>\n",
       "<table border=\"1\" class=\"dataframe\">\n",
       "  <thead>\n",
       "    <tr style=\"text-align: right;\">\n",
       "      <th></th>\n",
       "      <th>a</th>\n",
       "      <th>b</th>\n",
       "      <th>c</th>\n",
       "    </tr>\n",
       "    <tr>\n",
       "      <th>npartitions=3</th>\n",
       "      <th></th>\n",
       "      <th></th>\n",
       "      <th></th>\n",
       "    </tr>\n",
       "  </thead>\n",
       "  <tbody>\n",
       "    <tr>\n",
       "      <th>0</th>\n",
       "      <td>int64</td>\n",
       "      <td>int64</td>\n",
       "      <td>int64</td>\n",
       "    </tr>\n",
       "    <tr>\n",
       "      <th>5</th>\n",
       "      <td>...</td>\n",
       "      <td>...</td>\n",
       "      <td>...</td>\n",
       "    </tr>\n",
       "    <tr>\n",
       "      <th>10</th>\n",
       "      <td>...</td>\n",
       "      <td>...</td>\n",
       "      <td>...</td>\n",
       "    </tr>\n",
       "    <tr>\n",
       "      <th>14</th>\n",
       "      <td>...</td>\n",
       "      <td>...</td>\n",
       "      <td>...</td>\n",
       "    </tr>\n",
       "  </tbody>\n",
       "</table>\n",
       "</div>\n",
       "<div>Dask Name: from_pandas, 3 tasks</div>"
      ],
      "text/plain": [
       "Dask DataFrame Structure:\n",
       "                   a      b      c\n",
       "npartitions=3                     \n",
       "0              int64  int64  int64\n",
       "5                ...    ...    ...\n",
       "10               ...    ...    ...\n",
       "14               ...    ...    ...\n",
       "Dask Name: from_pandas, 3 tasks"
      ]
     },
     "execution_count": 10,
     "metadata": {},
     "output_type": "execute_result"
    }
   ],
   "source": [
    "ddf = dd.from_pandas(pdf, npartitions=3)\n",
    "ddf"
   ]
  },
  {
   "cell_type": "code",
   "execution_count": 14,
   "metadata": {
    "execution": {
     "iopub.execute_input": "2020-10-04T11:15:34.993358Z",
     "iopub.status.busy": "2020-10-04T11:15:34.992373Z",
     "iopub.status.idle": "2020-10-04T11:15:35.011554Z",
     "shell.execute_reply": "2020-10-04T11:15:35.010993Z",
     "shell.execute_reply.started": "2020-10-04T11:15:34.993244Z"
    }
   },
   "outputs": [
    {
     "data": {
      "text/html": [
       "<div>\n",
       "<style scoped>\n",
       "    .dataframe tbody tr th:only-of-type {\n",
       "        vertical-align: middle;\n",
       "    }\n",
       "\n",
       "    .dataframe tbody tr th {\n",
       "        vertical-align: top;\n",
       "    }\n",
       "\n",
       "    .dataframe thead th {\n",
       "        text-align: right;\n",
       "    }\n",
       "</style>\n",
       "<table border=\"1\" class=\"dataframe\">\n",
       "  <thead>\n",
       "    <tr style=\"text-align: right;\">\n",
       "      <th></th>\n",
       "      <th>a</th>\n",
       "      <th>b</th>\n",
       "      <th>c</th>\n",
       "    </tr>\n",
       "  </thead>\n",
       "  <tbody>\n",
       "    <tr>\n",
       "      <th>10</th>\n",
       "      <td>4</td>\n",
       "      <td>12</td>\n",
       "      <td>44</td>\n",
       "    </tr>\n",
       "    <tr>\n",
       "      <th>11</th>\n",
       "      <td>4</td>\n",
       "      <td>0</td>\n",
       "      <td>33</td>\n",
       "    </tr>\n",
       "    <tr>\n",
       "      <th>12</th>\n",
       "      <td>1</td>\n",
       "      <td>9</td>\n",
       "      <td>2</td>\n",
       "    </tr>\n",
       "    <tr>\n",
       "      <th>13</th>\n",
       "      <td>3</td>\n",
       "      <td>2</td>\n",
       "      <td>4</td>\n",
       "    </tr>\n",
       "    <tr>\n",
       "      <th>14</th>\n",
       "      <td>6</td>\n",
       "      <td>4</td>\n",
       "      <td>1</td>\n",
       "    </tr>\n",
       "  </tbody>\n",
       "</table>\n",
       "</div>"
      ],
      "text/plain": [
       "    a   b   c\n",
       "10  4  12  44\n",
       "11  4   0  33\n",
       "12  1   9   2\n",
       "13  3   2   4\n",
       "14  6   4   1"
      ]
     },
     "execution_count": 14,
     "metadata": {},
     "output_type": "execute_result"
    }
   ],
   "source": [
    "ddf.partitions[2].compute()"
   ]
  },
  {
   "cell_type": "code",
   "execution_count": 15,
   "metadata": {
    "execution": {
     "iopub.execute_input": "2020-10-04T11:16:21.307176Z",
     "iopub.status.busy": "2020-10-04T11:16:21.306760Z",
     "iopub.status.idle": "2020-10-04T11:16:21.312573Z",
     "shell.execute_reply": "2020-10-04T11:16:21.311421Z",
     "shell.execute_reply.started": "2020-10-04T11:16:21.307129Z"
    }
   },
   "outputs": [],
   "source": [
    "sdf1 = pdf[:5]\n",
    "sdf2 = pdf[5:10]\n",
    "sdf3 = pdf[10:]"
   ]
  },
  {
   "cell_type": "code",
   "execution_count": 17,
   "metadata": {
    "execution": {
     "iopub.execute_input": "2020-10-04T11:18:15.648183Z",
     "iopub.status.busy": "2020-10-04T11:18:15.647753Z",
     "iopub.status.idle": "2020-10-04T11:18:15.662516Z",
     "shell.execute_reply": "2020-10-04T11:18:15.661936Z",
     "shell.execute_reply.started": "2020-10-04T11:18:15.648133Z"
    }
   },
   "outputs": [],
   "source": [
    "gp1 = sdf1.groupby(['a', 'b']).c.sum()\n",
    "gp2 = sdf2.groupby(['a', 'b']).c.sum()\n",
    "gp3 = sdf3.groupby(['a', 'b']).c.sum()"
   ]
  },
  {
   "cell_type": "code",
   "execution_count": 21,
   "metadata": {
    "execution": {
     "iopub.execute_input": "2020-10-04T11:18:36.231514Z",
     "iopub.status.busy": "2020-10-04T11:18:36.230888Z",
     "iopub.status.idle": "2020-10-04T11:18:36.238454Z",
     "shell.execute_reply": "2020-10-04T11:18:36.237934Z",
     "shell.execute_reply.started": "2020-10-04T11:18:36.231441Z"
    }
   },
   "outputs": [
    {
     "data": {
      "text/plain": [
       "(a  b \n",
       " 1  1     2\n",
       "    3     4\n",
       " 2  10    5\n",
       " 3  2     3\n",
       "    3     2\n",
       " Name: c, dtype: int64,\n",
       " a  b \n",
       " 1  1      5\n",
       "    3      2\n",
       " 2  10     3\n",
       " 3  3     11\n",
       " Name: c, dtype: int64,\n",
       " a  b \n",
       " 1  9      2\n",
       " 3  2      4\n",
       " 4  0     33\n",
       "    12    44\n",
       " 6  4      1\n",
       " Name: c, dtype: int64)"
      ]
     },
     "execution_count": 21,
     "metadata": {},
     "output_type": "execute_result"
    }
   ],
   "source": [
    "gp1,gp2,gp3"
   ]
  },
  {
   "cell_type": "code",
   "execution_count": 22,
   "metadata": {
    "execution": {
     "iopub.execute_input": "2020-10-04T11:19:12.504317Z",
     "iopub.status.busy": "2020-10-04T11:19:12.504144Z",
     "iopub.status.idle": "2020-10-04T11:19:12.508288Z",
     "shell.execute_reply": "2020-10-04T11:19:12.507874Z",
     "shell.execute_reply.started": "2020-10-04T11:19:12.504290Z"
    }
   },
   "outputs": [],
   "source": [
    "concated_gp = pd.concat([gp1, gp2, gp3])"
   ]
  },
  {
   "cell_type": "code",
   "execution_count": 23,
   "metadata": {
    "execution": {
     "iopub.execute_input": "2020-10-04T11:19:18.829841Z",
     "iopub.status.busy": "2020-10-04T11:19:18.829178Z",
     "iopub.status.idle": "2020-10-04T11:19:18.843307Z",
     "shell.execute_reply": "2020-10-04T11:19:18.842072Z",
     "shell.execute_reply.started": "2020-10-04T11:19:18.829765Z"
    }
   },
   "outputs": [
    {
     "data": {
      "text/plain": [
       "a  b \n",
       "1  1      2\n",
       "   3      4\n",
       "2  10     5\n",
       "3  2      3\n",
       "   3      2\n",
       "1  1      5\n",
       "   3      2\n",
       "2  10     3\n",
       "3  3     11\n",
       "1  9      2\n",
       "3  2      4\n",
       "4  0     33\n",
       "   12    44\n",
       "6  4      1\n",
       "Name: c, dtype: int64"
      ]
     },
     "execution_count": 23,
     "metadata": {},
     "output_type": "execute_result"
    }
   ],
   "source": [
    "concated_gp"
   ]
  },
  {
   "cell_type": "code",
   "execution_count": 24,
   "metadata": {
    "execution": {
     "iopub.execute_input": "2020-10-04T11:19:43.686209Z",
     "iopub.status.busy": "2020-10-04T11:19:43.686037Z",
     "iopub.status.idle": "2020-10-04T11:19:43.689816Z",
     "shell.execute_reply": "2020-10-04T11:19:43.689307Z",
     "shell.execute_reply.started": "2020-10-04T11:19:43.686192Z"
    }
   },
   "outputs": [],
   "source": [
    "total = concated_gp.groupby(level=[0, 1]).sum()"
   ]
  },
  {
   "cell_type": "code",
   "execution_count": 25,
   "metadata": {
    "execution": {
     "iopub.execute_input": "2020-10-04T11:19:47.521072Z",
     "iopub.status.busy": "2020-10-04T11:19:47.520756Z",
     "iopub.status.idle": "2020-10-04T11:19:47.526614Z",
     "shell.execute_reply": "2020-10-04T11:19:47.526174Z",
     "shell.execute_reply.started": "2020-10-04T11:19:47.521036Z"
    }
   },
   "outputs": [
    {
     "data": {
      "text/plain": [
       "a  b \n",
       "1  1      7\n",
       "   3      6\n",
       "   9      2\n",
       "2  10     8\n",
       "3  2      7\n",
       "   3     13\n",
       "4  0     33\n",
       "   12    44\n",
       "6  4      1\n",
       "Name: c, dtype: int64"
      ]
     },
     "execution_count": 25,
     "metadata": {},
     "output_type": "execute_result"
    }
   ],
   "source": [
    "total  "
   ]
  },
  {
   "cell_type": "code",
   "execution_count": 27,
   "metadata": {
    "execution": {
     "iopub.execute_input": "2020-10-04T11:21:09.652426Z",
     "iopub.status.busy": "2020-10-04T11:21:09.652276Z",
     "iopub.status.idle": "2020-10-04T11:21:09.658105Z",
     "shell.execute_reply": "2020-10-04T11:21:09.657662Z",
     "shell.execute_reply.started": "2020-10-04T11:21:09.652410Z"
    }
   },
   "outputs": [
    {
     "data": {
      "text/plain": [
       "a  b \n",
       "1  1      7\n",
       "   3      6\n",
       "   9      2\n",
       "2  10     8\n",
       "3  2      7\n",
       "   3     13\n",
       "4  0     33\n",
       "   12    44\n",
       "6  4      1\n",
       "Name: c, dtype: int64"
      ]
     },
     "execution_count": 27,
     "metadata": {},
     "output_type": "execute_result"
    }
   ],
   "source": [
    "pdf.groupby(['a', 'b']).c.sum()"
   ]
  },
  {
   "cell_type": "code",
   "execution_count": 28,
   "metadata": {
    "execution": {
     "iopub.execute_input": "2020-10-04T11:21:30.096600Z",
     "iopub.status.busy": "2020-10-04T11:21:30.096368Z",
     "iopub.status.idle": "2020-10-04T11:21:30.113270Z",
     "shell.execute_reply": "2020-10-04T11:21:30.112716Z",
     "shell.execute_reply.started": "2020-10-04T11:21:30.096577Z"
    }
   },
   "outputs": [
    {
     "data": {
      "text/plain": [
       "a  b \n",
       "1  1      7\n",
       "   3      6\n",
       "2  10     8\n",
       "3  2      7\n",
       "   3     13\n",
       "1  9      2\n",
       "4  0     33\n",
       "   12    44\n",
       "6  4      1\n",
       "Name: c, dtype: int64"
      ]
     },
     "execution_count": 28,
     "metadata": {},
     "output_type": "execute_result"
    }
   ],
   "source": [
    "ddf.groupby(['a', 'b']).c.sum().compute()"
   ]
  },
  {
   "cell_type": "code",
   "execution_count": null,
   "metadata": {},
   "outputs": [],
   "source": []
  }
 ],
 "metadata": {
  "kernelspec": {
   "display_name": "env",
   "language": "python",
   "name": "env"
  },
  "language_info": {
   "codemirror_mode": {
    "name": "ipython",
    "version": 3
   },
   "file_extension": ".py",
   "mimetype": "text/x-python",
   "name": "python",
   "nbconvert_exporter": "python",
   "pygments_lexer": "ipython3",
   "version": "3.8.2"
  }
 },
 "nbformat": 4,
 "nbformat_minor": 4
}
