{
 "cells": [
  {
   "cell_type": "markdown",
   "metadata": {},
   "source": [
    "# **Parallelize workloads with Dask Delayed**"
   ]
  },
  {
   "cell_type": "markdown",
   "metadata": {},
   "source": [
    "Dask.delayed is a simple and powerful way to parallelize existing code. It allows users to delay function calls into a task graph with dependencies. Dask.delayed doesn't provide any fancy parallel algorithms like Dask.dataframe, but it does give the user complete control over what they want to build.\n",
    "\n",
    "Systems like Dask.dataframe are built with Dask.delayed. If you have a problem that is paralellizable, but isn't as simple as just a big array or a big dataframe, then dask.delayed may be the right choice for you.\n",
    "\n"
   ]
  },
  {
   "cell_type": "code",
   "execution_count": 1,
   "metadata": {
    "execution": {
     "iopub.execute_input": "2020-10-31T12:02:18.826847Z",
     "iopub.status.busy": "2020-10-31T12:02:18.826641Z",
     "iopub.status.idle": "2020-10-31T12:02:19.963083Z",
     "shell.execute_reply": "2020-10-31T12:02:19.962478Z",
     "shell.execute_reply.started": "2020-10-31T12:02:18.826797Z"
    }
   },
   "outputs": [
    {
     "data": {
      "text/html": [
       "<table style=\"border: 2px solid white;\">\n",
       "<tr>\n",
       "<td style=\"vertical-align: top; border: 0px solid white\">\n",
       "<h3 style=\"text-align: left;\">Client</h3>\n",
       "<ul style=\"text-align: left; list-style: none; margin: 0; padding: 0;\">\n",
       "  <li><b>Scheduler: </b>tcp://127.0.0.1:34181</li>\n",
       "  <li><b>Dashboard: </b><a href='http://127.0.0.1:8787/status' target='_blank'>http://127.0.0.1:8787/status</a></li>\n",
       "</ul>\n",
       "</td>\n",
       "<td style=\"vertical-align: top; border: 0px solid white\">\n",
       "<h3 style=\"text-align: left;\">Cluster</h3>\n",
       "<ul style=\"text-align: left; list-style:none; margin: 0; padding: 0;\">\n",
       "  <li><b>Workers: </b>1</li>\n",
       "  <li><b>Cores: </b>4</li>\n",
       "  <li><b>Memory: </b>8.18 GB</li>\n",
       "</ul>\n",
       "</td>\n",
       "</tr>\n",
       "</table>"
      ],
      "text/plain": [
       "<Client: 'tcp://127.0.0.1:34181' processes=1 threads=4, memory=8.18 GB>"
      ]
     },
     "execution_count": 1,
     "metadata": {},
     "output_type": "execute_result"
    }
   ],
   "source": [
    "import dask\n",
    "from dask.distributed import Client, progress\n",
    "client = Client(threads_per_worker=4, n_workers=1)\n",
    "client\n"
   ]
  },
  {
   "cell_type": "markdown",
   "metadata": {},
   "source": [
    "### **Simple functions**"
   ]
  },
  {
   "cell_type": "code",
   "execution_count": 2,
   "metadata": {
    "execution": {
     "iopub.execute_input": "2020-10-31T12:02:24.746280Z",
     "iopub.status.busy": "2020-10-31T12:02:24.745631Z",
     "iopub.status.idle": "2020-10-31T12:02:24.758654Z",
     "shell.execute_reply": "2020-10-31T12:02:24.757160Z",
     "shell.execute_reply.started": "2020-10-31T12:02:24.746203Z"
    }
   },
   "outputs": [],
   "source": [
    "import random\n",
    "import time \n",
    "\n",
    "def inc(x):\n",
    "    time.sleep(random.random())\n",
    "    return x + 1\n",
    "\n",
    "def dec(x):\n",
    "    time.sleep(random.random())\n",
    "    return x - 1\n",
    "    \n",
    "def add(x, y):\n",
    "    time.sleep(random.random())\n",
    "    return x + y"
   ]
  },
  {
   "cell_type": "markdown",
   "metadata": {},
   "source": [
    "Normal execution"
   ]
  },
  {
   "cell_type": "code",
   "execution_count": 3,
   "metadata": {
    "execution": {
     "iopub.execute_input": "2020-10-31T12:02:59.386476Z",
     "iopub.status.busy": "2020-10-31T12:02:59.385811Z",
     "iopub.status.idle": "2020-10-31T12:03:00.959137Z",
     "shell.execute_reply": "2020-10-31T12:03:00.957147Z",
     "shell.execute_reply.started": "2020-10-31T12:02:59.386402Z"
    }
   },
   "outputs": [
    {
     "data": {
      "text/plain": [
       "6"
      ]
     },
     "execution_count": 3,
     "metadata": {},
     "output_type": "execute_result"
    }
   ],
   "source": [
    "x = inc(1)\n",
    "y = dec(5)\n",
    "z = add(x,y)\n",
    "z"
   ]
  },
  {
   "cell_type": "code",
   "execution_count": 4,
   "metadata": {
    "execution": {
     "iopub.execute_input": "2020-10-31T12:03:00.962241Z",
     "iopub.status.busy": "2020-10-31T12:03:00.961670Z",
     "iopub.status.idle": "2020-10-31T12:03:00.973344Z",
     "shell.execute_reply": "2020-10-31T12:03:00.970631Z",
     "shell.execute_reply.started": "2020-10-31T12:03:00.962171Z"
    }
   },
   "outputs": [],
   "source": [
    "inc = dask.delayed(inc)\n",
    "'''\n",
    "@delayed\n",
    "def inc(x):\n",
    "    time.sleep(random.random())\n",
    "    return x + 1\n",
    "\n",
    "'''\n",
    "dec = dask.delayed(dec)\n",
    "add = dask.delayed(add)"
   ]
  },
  {
   "cell_type": "code",
   "execution_count": 14,
   "metadata": {
    "execution": {
     "iopub.execute_input": "2020-10-31T11:36:59.188470Z",
     "iopub.status.busy": "2020-10-31T11:36:59.188114Z",
     "iopub.status.idle": "2020-10-31T11:36:59.195375Z",
     "shell.execute_reply": "2020-10-31T11:36:59.194562Z",
     "shell.execute_reply.started": "2020-10-31T11:36:59.188430Z"
    }
   },
   "outputs": [
    {
     "data": {
      "text/plain": [
       "Delayed('add-3f4ee0a5-b0a7-4b96-ba0d-15cff508941b')"
      ]
     },
     "execution_count": 14,
     "metadata": {},
     "output_type": "execute_result"
    }
   ],
   "source": [
    "x = inc(1)\n",
    "y = dec(2)\n",
    "z = add(x, y)\n",
    "z"
   ]
  },
  {
   "cell_type": "code",
   "execution_count": 16,
   "metadata": {
    "execution": {
     "iopub.execute_input": "2020-10-31T19:38:45.783074Z",
     "iopub.status.busy": "2020-10-31T19:38:45.782838Z",
     "iopub.status.idle": "2020-10-31T19:38:45.787534Z",
     "shell.execute_reply": "2020-10-31T19:38:45.786909Z",
     "shell.execute_reply.started": "2020-10-31T19:38:45.783047Z"
    }
   },
   "outputs": [
    {
     "data": {
      "text/plain": [
       "{'add-4580525b-bece-42e7-b3bb-6c43f0787100': (<function __main__.add(x, y)>,\n",
       "  'inc-4268b48b-87ff-4a2d-a425-d8248c9901d2',\n",
       "  'dec-58b80bb5-6252-4eb8-bece-5408f99f83b2'),\n",
       " 'inc-4268b48b-87ff-4a2d-a425-d8248c9901d2': (<function __main__.inc(x)>, 255),\n",
       " 'dec-58b80bb5-6252-4eb8-bece-5408f99f83b2': (<function __main__.dec(x)>,\n",
       "  'inc-4268b48b-87ff-4a2d-a425-d8248c9901d2')}"
      ]
     },
     "execution_count": 16,
     "metadata": {},
     "output_type": "execute_result"
    }
   ],
   "source": [
    "#getting the dask graph\n",
    "dict(z.dask)"
   ]
  },
  {
   "cell_type": "code",
   "execution_count": 20,
   "metadata": {
    "execution": {
     "iopub.execute_input": "2020-10-31T11:39:50.459712Z",
     "iopub.status.busy": "2020-10-31T11:39:50.459351Z",
     "iopub.status.idle": "2020-10-31T11:39:50.492088Z",
     "shell.execute_reply": "2020-10-31T11:39:50.491378Z",
     "shell.execute_reply.started": "2020-10-31T11:39:50.459669Z"
    }
   },
   "outputs": [
    {
     "data": {
      "image/png": "[encoded data removed]",
      "text/plain": [
       "<IPython.core.display.Image object>"
      ]
     },
     "execution_count": 20,
     "metadata": {},
     "output_type": "execute_result"
    }
   ],
   "source": [
    "z.visualize(rankdir='LR')"
   ]
  },
  {
   "cell_type": "code",
   "execution_count": 21,
   "metadata": {
    "execution": {
     "iopub.execute_input": "2020-10-31T11:39:57.931465Z",
     "iopub.status.busy": "2020-10-31T11:39:57.931311Z",
     "iopub.status.idle": "2020-10-31T11:39:59.105345Z",
     "shell.execute_reply": "2020-10-31T11:39:59.104799Z",
     "shell.execute_reply.started": "2020-10-31T11:39:57.931449Z"
    }
   },
   "outputs": [
    {
     "data": {
      "text/plain": [
       "3"
      ]
     },
     "execution_count": 21,
     "metadata": {},
     "output_type": "execute_result"
    }
   ],
   "source": [
    "z.compute()"
   ]
  },
  {
   "cell_type": "code",
   "execution_count": 5,
   "metadata": {
    "execution": {
     "iopub.execute_input": "2020-10-31T12:03:11.096810Z",
     "iopub.status.busy": "2020-10-31T12:03:11.096621Z",
     "iopub.status.idle": "2020-10-31T12:03:11.121291Z",
     "shell.execute_reply": "2020-10-31T12:03:11.120799Z",
     "shell.execute_reply.started": "2020-10-31T12:03:11.096792Z"
    }
   },
   "outputs": [],
   "source": [
    "zs = []\n",
    "for i in range(256):\n",
    "    x = inc(i)\n",
    "    y = dec(x)\n",
    "    z = add(x, y)\n",
    "    zs.append(z)"
   ]
  },
  {
   "cell_type": "code",
   "execution_count": 6,
   "metadata": {
    "execution": {
     "iopub.execute_input": "2020-10-31T12:03:13.283577Z",
     "iopub.status.busy": "2020-10-31T12:03:13.282944Z",
     "iopub.status.idle": "2020-10-31T12:03:13.291925Z",
     "shell.execute_reply": "2020-10-31T12:03:13.289501Z",
     "shell.execute_reply.started": "2020-10-31T12:03:13.283506Z"
    }
   },
   "outputs": [],
   "source": [
    "#zs "
   ]
  },
  {
   "cell_type": "code",
   "execution_count": 7,
   "metadata": {
    "execution": {
     "iopub.execute_input": "2020-10-31T12:03:13.823064Z",
     "iopub.status.busy": "2020-10-31T12:03:13.822533Z",
     "iopub.status.idle": "2020-10-31T12:03:13.883117Z",
     "shell.execute_reply": "2020-10-31T12:03:13.872585Z",
     "shell.execute_reply.started": "2020-10-31T12:03:13.823006Z"
    }
   },
   "outputs": [],
   "source": [
    "zs = dask.persist(*zs)"
   ]
  },
  {
   "cell_type": "code",
   "execution_count": 11,
   "metadata": {
    "execution": {
     "iopub.execute_input": "2020-10-31T12:39:10.467227Z",
     "iopub.status.busy": "2020-10-31T12:39:10.466940Z",
     "iopub.status.idle": "2020-10-31T12:39:46.693208Z",
     "shell.execute_reply": "2020-10-31T12:39:46.692003Z",
     "shell.execute_reply.started": "2020-10-31T12:39:10.467196Z"
    }
   },
   "outputs": [
    {
     "data": {
      "text/plain": [
       "([65536],)"
      ]
     },
     "execution_count": 11,
     "metadata": {},
     "output_type": "execute_result"
    }
   ],
   "source": [
    "\n",
    "L = zs\n",
    "while len(L) > 1:\n",
    "    new_L = []\n",
    "    for i in range(0, len(L), 2):\n",
    "        lazy = add(L[i], L[i + 1])  # add neighbors\n",
    "        new_L.append(lazy)\n",
    "    L = new_L                       # swap old list for new\n",
    "\n",
    "dask.compute(L)"
   ]
  },
  {
   "cell_type": "code",
   "execution_count": 9,
   "metadata": {
    "execution": {
     "iopub.execute_input": "2020-10-31T12:37:45.163436Z",
     "iopub.status.busy": "2020-10-31T12:37:45.162695Z",
     "iopub.status.idle": "2020-10-31T12:37:45.170879Z",
     "shell.execute_reply": "2020-10-31T12:37:45.168605Z",
     "shell.execute_reply.started": "2020-10-31T12:37:45.163362Z"
    }
   },
   "outputs": [],
   "source": [
    "# client.cluster.scale(10)  # ask for ten 4-thread workers\n",
    "#"
   ]
  },
  {
   "cell_type": "code",
   "execution_count": 9,
   "metadata": {
    "execution": {
     "iopub.execute_input": "2020-10-31T11:35:22.648312Z",
     "iopub.status.busy": "2020-10-31T11:35:22.647656Z",
     "iopub.status.idle": "2020-10-31T11:35:23.790367Z",
     "shell.execute_reply": "2020-10-31T11:35:23.787933Z",
     "shell.execute_reply.started": "2020-10-31T11:35:22.648237Z"
    }
   },
   "outputs": [],
   "source": [
    "client.close()"
   ]
  },
  {
   "cell_type": "markdown",
   "metadata": {},
   "source": [
    "## **NOTE** :\n",
    "### **Dask is a graph execution engine**\n",
    "Dask allows you to construct a prescription for the calculation you want to carry out. "
   ]
  }
 ],
 "metadata": {
  "kernelspec": {
   "display_name": "env",
   "language": "python",
   "name": "env"
  },
  "language_info": {
   "codemirror_mode": {
    "name": "ipython",
    "version": 3
   },
   "file_extension": ".py",
   "mimetype": "text/x-python",
   "name": "python",
   "nbconvert_exporter": "python",
   "pygments_lexer": "ipython3",
   "version": "3.8.5"
  }
 },
 "nbformat": 4,
 "nbformat_minor": 4
}
