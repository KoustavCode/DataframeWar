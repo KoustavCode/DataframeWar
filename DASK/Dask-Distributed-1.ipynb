{
 "cells": [
  {
   "cell_type": "markdown",
   "metadata": {},
   "source": [
    "# **DASK DISTRIBUTED** "
   ]
  },
  {
   "cell_type": "markdown",
   "metadata": {},
   "source": [
    "Dask.distributed is a `centrally managed`, `distributed`, `dynamic task scheduler`. The central `dask-scheduler` process coordinates the actions of several `dask-worker` processes spread across multiple machines and the concurrent requests of several clients."
   ]
  },
  {
   "cell_type": "markdown",
   "metadata": {},
   "source": [
    "![DASK DISTRIBUTED](img/distributed-overview.svg)"
   ]
  },
  {
   "cell_type": "markdown",
   "metadata": {},
   "source": [
    "## **DASK DISTRIBUTED SCHEDULER**"
   ]
  },
  {
   "cell_type": "code",
   "execution_count": 6,
   "metadata": {
    "execution": {
     "iopub.execute_input": "2020-10-25T20:56:43.538604Z",
     "iopub.status.busy": "2020-10-25T20:56:43.538404Z",
     "iopub.status.idle": "2020-10-25T20:56:43.790632Z",
     "shell.execute_reply": "2020-10-25T20:56:43.790067Z",
     "shell.execute_reply.started": "2020-10-25T20:56:43.538582Z"
    }
   },
   "outputs": [],
   "source": [
    "import dask\n",
    "from dask.distributed import Client\n",
    "import numpy as np\n"
   ]
  },
  {
   "cell_type": "code",
   "execution_count": 9,
   "metadata": {
    "execution": {
     "iopub.execute_input": "2020-10-25T20:58:01.704819Z",
     "iopub.status.busy": "2020-10-25T20:58:01.704014Z",
     "iopub.status.idle": "2020-10-25T20:58:02.296176Z",
     "shell.execute_reply": "2020-10-25T20:58:02.295815Z",
     "shell.execute_reply.started": "2020-10-25T20:58:01.704736Z"
    }
   },
   "outputs": [
    {
     "name": "stderr",
     "output_type": "stream",
     "text": [
      "/home/koustav/Documents/DataframeWar/env/lib/python3.8/site-packages/distributed/node.py:151: UserWarning: Port 8787 is already in use.\n",
      "Perhaps you already have a cluster running?\n",
      "Hosting the HTTP server on port 40611 instead\n",
      "  warnings.warn(\n"
     ]
    },
    {
     "data": {
      "text/html": [
       "<table style=\"border: 2px solid white;\">\n",
       "<tr>\n",
       "<td style=\"vertical-align: top; border: 0px solid white\">\n",
       "<h3 style=\"text-align: left;\">Client</h3>\n",
       "<ul style=\"text-align: left; list-style: none; margin: 0; padding: 0;\">\n",
       "  <li><b>Scheduler: </b>tcp://127.0.0.1:44479</li>\n",
       "  <li><b>Dashboard: </b><a href='http://127.0.0.1:40611/status' target='_blank'>http://127.0.0.1:40611/status</a></li>\n",
       "</ul>\n",
       "</td>\n",
       "<td style=\"vertical-align: top; border: 0px solid white\">\n",
       "<h3 style=\"text-align: left;\">Cluster</h3>\n",
       "<ul style=\"text-align: left; list-style:none; margin: 0; padding: 0;\">\n",
       "  <li><b>Workers: </b>4</li>\n",
       "  <li><b>Cores: </b>16</li>\n",
       "  <li><b>Memory: </b>4.00 GB</li>\n",
       "</ul>\n",
       "</td>\n",
       "</tr>\n",
       "</table>"
      ],
      "text/plain": [
       "<Client: 'tcp://127.0.0.1:44479' processes=4 threads=16, memory=4.00 GB>"
      ]
     },
     "execution_count": 9,
     "metadata": {},
     "output_type": "execute_result"
    }
   ],
   "source": [
    "client = Client(n_workers=4, processes=4,threads_per_worker=4, memory_limit='1GB')\n",
    "# client = Client()\n",
    "client\n"
   ]
  },
  {
   "cell_type": "markdown",
   "metadata": {
    "execution": {
     "iopub.execute_input": "2020-10-01T20:36:24.068869Z",
     "iopub.status.busy": "2020-10-01T20:36:24.068200Z",
     "iopub.status.idle": "2020-10-01T20:36:24.078161Z",
     "shell.execute_reply": "2020-10-01T20:36:24.076013Z",
     "shell.execute_reply.started": "2020-10-01T20:36:24.068794Z"
    }
   },
   "source": [
    "#### **WORKING OF THE DISTRIBUTED SCHEDULER**"
   ]
  },
  {
   "cell_type": "markdown",
   "metadata": {},
   "source": [
    "To begin, the futures interface (derived from the built-in `concurrent.futures`) allow map-reduce like functionality. We can submit individual functions for evaluation with one set of inputs, or evaluated over a sequence of inputs with `submit()` and `map()`. Notice that the call returns immediately, giving one or more futures, whose status begins as \"pending\" and later becomes \"finished\". There is no blocking of the local Python session."
   ]
  },
  {
   "cell_type": "code",
   "execution_count": 6,
   "metadata": {
    "execution": {
     "iopub.execute_input": "2020-10-01T20:37:31.883772Z",
     "iopub.status.busy": "2020-10-01T20:37:31.883590Z",
     "iopub.status.idle": "2020-10-01T20:37:31.890457Z",
     "shell.execute_reply": "2020-10-01T20:37:31.889849Z",
     "shell.execute_reply.started": "2020-10-01T20:37:31.883753Z"
    }
   },
   "outputs": [
    {
     "data": {
      "text/html": [
       "<b>Future: func</b> <font color=\"gray\">status: </font><font color=\"black\">pending</font>, <font color=\"gray\">key: </font>func-d427a5fcbcef2d29d305b4b923ac7c74"
      ],
      "text/plain": [
       "<Future: pending, key: func-d427a5fcbcef2d29d305b4b923ac7c74>"
      ]
     },
     "execution_count": 6,
     "metadata": {},
     "output_type": "execute_result"
    }
   ],
   "source": [
    "def func(x):\n",
    "    return x + 1\n",
    "\n",
    "fut = client.submit(func, 9)\n",
    "fut"
   ]
  },
  {
   "cell_type": "code",
   "execution_count": 5,
   "metadata": {
    "execution": {
     "iopub.execute_input": "2020-10-01T20:37:13.441999Z",
     "iopub.status.busy": "2020-10-01T20:37:13.441354Z",
     "iopub.status.idle": "2020-10-01T20:37:13.455094Z",
     "shell.execute_reply": "2020-10-01T20:37:13.451960Z",
     "shell.execute_reply.started": "2020-10-01T20:37:13.441926Z"
    }
   },
   "outputs": [
    {
     "data": {
      "text/html": [
       "<b>Future: func</b> <font color=\"gray\">status: </font><font color=\"black\">finished</font>, <font color=\"gray\">type: </font>builtins.int, <font color=\"gray\">key: </font>func-cfa39e7311310d53be031f2a910dba47"
      ],
      "text/plain": [
       "<Future: finished, type: builtins.int, key: func-cfa39e7311310d53be031f2a910dba47>"
      ]
     },
     "execution_count": 5,
     "metadata": {},
     "output_type": "execute_result"
    }
   ],
   "source": [
    "fut"
   ]
  },
  {
   "cell_type": "code",
   "execution_count": 7,
   "metadata": {
    "execution": {
     "iopub.execute_input": "2020-10-01T20:37:57.495887Z",
     "iopub.status.busy": "2020-10-01T20:37:57.495250Z",
     "iopub.status.idle": "2020-10-01T20:37:57.518089Z",
     "shell.execute_reply": "2020-10-01T20:37:57.515989Z",
     "shell.execute_reply.started": "2020-10-01T20:37:57.495817Z"
    }
   },
   "outputs": [
    {
     "data": {
      "text/plain": [
       "distributed.client.Future"
      ]
     },
     "execution_count": 7,
     "metadata": {},
     "output_type": "execute_result"
    }
   ],
   "source": [
    "x = client.submit(np.random.random, (10000, 10000))\n",
    "type(x)"
   ]
  },
  {
   "cell_type": "code",
   "execution_count": 8,
   "metadata": {
    "execution": {
     "iopub.execute_input": "2020-10-01T20:38:06.707902Z",
     "iopub.status.busy": "2020-10-01T20:38:06.706447Z",
     "iopub.status.idle": "2020-10-01T20:38:08.211878Z",
     "shell.execute_reply": "2020-10-01T20:38:08.211510Z",
     "shell.execute_reply.started": "2020-10-01T20:38:06.707821Z"
    }
   },
   "outputs": [
    {
     "data": {
      "text/plain": [
       "(10000, 10000)"
      ]
     },
     "execution_count": 8,
     "metadata": {},
     "output_type": "execute_result"
    }
   ],
   "source": [
    "x.result().shape #slow as Gather the numpy array to the local process, access the .shape attribute"
   ]
  },
  {
   "cell_type": "code",
   "execution_count": 9,
   "metadata": {
    "execution": {
     "iopub.execute_input": "2020-10-01T20:38:15.619119Z",
     "iopub.status.busy": "2020-10-01T20:38:15.618452Z",
     "iopub.status.idle": "2020-10-01T20:38:15.640012Z",
     "shell.execute_reply": "2020-10-01T20:38:15.639073Z",
     "shell.execute_reply.started": "2020-10-01T20:38:15.619048Z"
    }
   },
   "outputs": [
    {
     "data": {
      "text/plain": [
       "(10000, 10000)"
      ]
     },
     "execution_count": 9,
     "metadata": {},
     "output_type": "execute_result"
    }
   ],
   "source": [
    "client.submit(lambda a: a.shape, x).result() #fast as  Send a lambda function up to the cluster to compute the shape"
   ]
  },
  {
   "cell_type": "markdown",
   "metadata": {},
   "source": [
    "#### **SCHEDULING STATE AND POLICIES**"
   ]
  },
  {
   "cell_type": "markdown",
   "metadata": {},
   "source": [
    "Internally, the scheduler moves tasks between a fixed set of states, notably released, waiting, no-worker, processing, memory, error.\n",
    "\n",
    "Tasks flow along the following states with the following allowed transitions:"
   ]
  },
  {
   "cell_type": "markdown",
   "metadata": {
    "execution": {
     "iopub.execute_input": "2020-10-25T20:41:08.094454Z",
     "iopub.status.busy": "2020-10-25T20:41:08.093740Z",
     "iopub.status.idle": "2020-10-25T20:41:08.222246Z",
     "shell.execute_reply": "2020-10-25T20:41:08.221523Z",
     "shell.execute_reply.started": "2020-10-25T20:41:08.094376Z"
    }
   },
   "source": [
    "![DASK DISTRIBUTED](img/task-state.svg)"
   ]
  },
  {
   "cell_type": "markdown",
   "metadata": {},
   "source": [
    "    * Released: Known but not actively computing or in memory\n",
    "    * Waiting: On track to be computed, waiting on dependencies to arrive in memory\n",
    "    * No-worker: Ready to be computed, but no appropriate worker exists (for example because of resource restrictions, or because no worker is connected at all).\n",
    "    * Processing: Actively being computed by one or more workers\n",
    "    * Memory: In memory on one or more workers\n",
    "    * Erred: Task computation, or one of its dependencies, has encountered an error\n",
    "    * Forgotten (not actually a state): Task is no longer needed by any client or dependent task]"
   ]
  },
  {
   "cell_type": "markdown",
   "metadata": {
    "execution": {
     "iopub.execute_input": "2020-10-25T20:44:38.982916Z",
     "iopub.status.busy": "2020-10-25T20:44:38.982587Z",
     "iopub.status.idle": "2020-10-25T20:44:38.987818Z",
     "shell.execute_reply": "2020-10-25T20:44:38.986889Z",
     "shell.execute_reply.started": "2020-10-25T20:44:38.982878Z"
    }
   },
   "source": [
    "[Indepth scheduling and worker state documentation](https://distributed.dask.org/en/latest/scheduling-state.html)"
   ]
  },
  {
   "cell_type": "markdown",
   "metadata": {},
   "source": [
    "#### Choosing workers:\n",
    "    1. If the task has no major dependencies and no restrictions then we find the least occupied worker.\n",
    "    2. Otherwise, if a task has user-provided restrictions (for example it must run on a machine with a GPU) then we restrict the available pool of workers to just that set, otherwise we consider all workers\n",
    "    3. From among this pool of workers we determine the workers to whom the least amount of data would need to be transferred.\n",
    "    4. We break ties by choosing the worker that currently has the fewest tasks, counting both those tasks in memory and those tasks processing currently."
   ]
  },
  {
   "cell_type": "markdown",
   "metadata": {},
   "source": [
    "#### **WORKER**"
   ]
  },
  {
   "cell_type": "markdown",
   "metadata": {
    "execution": {
     "iopub.execute_input": "2020-10-25T20:50:29.781351Z",
     "iopub.status.busy": "2020-10-25T20:50:29.781127Z",
     "iopub.status.idle": "2020-10-25T20:50:29.785017Z",
     "shell.execute_reply": "2020-10-25T20:50:29.784341Z",
     "shell.execute_reply.started": "2020-10-25T20:50:29.781330Z"
    }
   },
   "source": [
    "#### The two main functions of worker:\n",
    "    1. Compute tasks as directed by the scheduler\n",
    "    2. Store and serve computed results to other workers or clients (Data is stored locally in a dictionary in the .data attribute that maps keys to the results of function calls. i.e worker.data)"
   ]
  },
  {
   "cell_type": "markdown",
   "metadata": {},
   "source": [
    "### **Thread Pooling tip**:\n",
    "    1. **CASE-1** : Run dask-worker with many threads and one process\n",
    "        * Where computations are mostly numeric in nature(NumPy and Pandas computations\n",
    "        * Releases the GIL\n",
    "        * Computations occur in the same process as the Worker communication server so that they can access and share data efficiently between each other.\n",
    "        *Reduces communication costs and generally simplifies deployment.\n",
    "        \n",
    "    2. **CASE-2** : Run dask-worker with many process and one thread per process\n",
    "        * Where computations are mostly Python code\n",
    "        * Don't release the GIL\n",
    "        * Not much inter-worker communication required.\n",
    "\n",
    "        "
   ]
  },
  {
   "cell_type": "markdown",
   "metadata": {},
   "source": [
    "### Worker Stealing\n",
    "     Computation to Communication Ratio\n",
    "     Saturated Worker Burden\n",
    "     Replicate Popular Data\n",
    "     Steal from the Rich\n",
    "     Restrictions\n",
    "\n",
    "Note: We can disable work stealing by setting `DASK_DISTRIBUTED__SCHEDULER__WORK_STEALING=\"False\"` on ` dask-scheduler`\n",
    "     \n",
    "    "
   ]
  },
  {
   "cell_type": "markdown",
   "metadata": {},
   "source": [
    "### **DASK COMPUTATION**\n",
    "Data and Computation in Dask.distributed are always in one of three states\n",
    "\n"
   ]
  },
  {
   "cell_type": "markdown",
   "metadata": {
    "execution": {
     "iopub.execute_input": "2020-10-25T20:26:56.582689Z",
     "iopub.status.busy": "2020-10-25T20:26:56.582055Z",
     "iopub.status.idle": "2020-10-25T20:26:56.702822Z",
     "shell.execute_reply": "2020-10-25T20:26:56.702151Z",
     "shell.execute_reply.started": "2020-10-25T20:26:56.582607Z"
    }
   },
   "source": [
    "![title](img/dask-computation.png)\n",
    "\n"
   ]
  },
  {
   "cell_type": "markdown",
   "metadata": {
    "execution": {
     "iopub.execute_input": "2020-10-01T20:41:05.381596Z",
     "iopub.status.busy": "2020-10-01T20:41:05.380944Z",
     "iopub.status.idle": "2020-10-01T20:41:05.394918Z",
     "shell.execute_reply": "2020-10-01T20:41:05.391810Z",
     "shell.execute_reply.started": "2020-10-01T20:41:05.381521Z"
    }
   },
   "source": [
    "### **Build scalable custom applications** \n",
    "\n",
    "    \n",
    "    • Dynamically submit tasks\n",
    "    • Millisecond latencies\n",
    "    • Coroutines with async/await\n",
    "    • high level coordination\n",
    "        ◦ Locks\n",
    "        ◦ Queues\n",
    "        ◦ Pub/Sub\n",
    "        ◦ Actors\n",
    "    • Integrates with any asyncio/tornado"
   ]
  },
  {
   "cell_type": "markdown",
   "metadata": {},
   "source": [
    "[Dask limitations](https://distributed.dask.org/en/latest/limitations.html)"
   ]
  }
 ],
 "metadata": {
  "kernelspec": {
   "display_name": "Python 3",
   "language": "python",
   "name": "python3"
  },
  "language_info": {
   "codemirror_mode": {
    "name": "ipython",
    "version": 3
   },
   "file_extension": ".py",
   "mimetype": "text/x-python",
   "name": "python",
   "nbconvert_exporter": "python",
   "pygments_lexer": "ipython3",
   "version": "3.8.5"
  }
 },
 "nbformat": 4,
 "nbformat_minor": 4
}
