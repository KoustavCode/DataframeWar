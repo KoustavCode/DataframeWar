{
 "cells": [
  {
   "cell_type": "markdown",
   "metadata": {},
   "source": [
    "# How does **GROUPBY** happen in **DASK** (distributed framework)?"
   ]
  },
  {
   "cell_type": "markdown",
   "metadata": {},
   "source": [
    "<!-- ![title](img/panda.png) -->\n",
    "<img src=\"img/panda.png\" width=800 />"
   ]
  },
  {
   "cell_type": "code",
   "execution_count": 3,
   "metadata": {
    "execution": {
     "iopub.execute_input": "2020-10-27T20:10:53.576296Z",
     "iopub.status.busy": "2020-10-27T20:10:53.575264Z",
     "iopub.status.idle": "2020-10-27T20:10:53.821263Z",
     "shell.execute_reply": "2020-10-27T20:10:53.820673Z",
     "shell.execute_reply.started": "2020-10-27T20:10:53.576172Z"
    }
   },
   "outputs": [],
   "source": [
    "import pandas as pd\n",
    "import dask.dataframe as dd"
   ]
  },
  {
   "cell_type": "code",
   "execution_count": 4,
   "metadata": {
    "execution": {
     "iopub.execute_input": "2020-10-27T20:10:56.830387Z",
     "iopub.status.busy": "2020-10-27T20:10:56.830209Z",
     "iopub.status.idle": "2020-10-27T20:10:56.837457Z",
     "shell.execute_reply": "2020-10-27T20:10:56.836996Z",
     "shell.execute_reply.started": "2020-10-27T20:10:56.830371Z"
    }
   },
   "outputs": [
    {
     "data": {
      "text/html": [
       "<div>\n",
       "<style scoped>\n",
       "    .dataframe tbody tr th:only-of-type {\n",
       "        vertical-align: middle;\n",
       "    }\n",
       "\n",
       "    .dataframe tbody tr th {\n",
       "        vertical-align: top;\n",
       "    }\n",
       "\n",
       "    .dataframe thead th {\n",
       "        text-align: right;\n",
       "    }\n",
       "</style>\n",
       "<table border=\"1\" class=\"dataframe\">\n",
       "  <thead>\n",
       "    <tr style=\"text-align: right;\">\n",
       "      <th></th>\n",
       "      <th>a</th>\n",
       "      <th>b</th>\n",
       "      <th>c</th>\n",
       "    </tr>\n",
       "  </thead>\n",
       "  <tbody>\n",
       "    <tr>\n",
       "      <th>0</th>\n",
       "      <td>1</td>\n",
       "      <td>1</td>\n",
       "      <td>2</td>\n",
       "    </tr>\n",
       "    <tr>\n",
       "      <th>1</th>\n",
       "      <td>1</td>\n",
       "      <td>3</td>\n",
       "      <td>4</td>\n",
       "    </tr>\n",
       "    <tr>\n",
       "      <th>2</th>\n",
       "      <td>2</td>\n",
       "      <td>10</td>\n",
       "      <td>5</td>\n",
       "    </tr>\n",
       "    <tr>\n",
       "      <th>3</th>\n",
       "      <td>3</td>\n",
       "      <td>3</td>\n",
       "      <td>2</td>\n",
       "    </tr>\n",
       "    <tr>\n",
       "      <th>4</th>\n",
       "      <td>3</td>\n",
       "      <td>2</td>\n",
       "      <td>3</td>\n",
       "    </tr>\n",
       "    <tr>\n",
       "      <th>5</th>\n",
       "      <td>1</td>\n",
       "      <td>1</td>\n",
       "      <td>5</td>\n",
       "    </tr>\n",
       "    <tr>\n",
       "      <th>6</th>\n",
       "      <td>1</td>\n",
       "      <td>3</td>\n",
       "      <td>2</td>\n",
       "    </tr>\n",
       "    <tr>\n",
       "      <th>7</th>\n",
       "      <td>2</td>\n",
       "      <td>10</td>\n",
       "      <td>3</td>\n",
       "    </tr>\n",
       "    <tr>\n",
       "      <th>8</th>\n",
       "      <td>3</td>\n",
       "      <td>3</td>\n",
       "      <td>9</td>\n",
       "    </tr>\n",
       "    <tr>\n",
       "      <th>9</th>\n",
       "      <td>3</td>\n",
       "      <td>3</td>\n",
       "      <td>2</td>\n",
       "    </tr>\n",
       "    <tr>\n",
       "      <th>10</th>\n",
       "      <td>4</td>\n",
       "      <td>12</td>\n",
       "      <td>44</td>\n",
       "    </tr>\n",
       "    <tr>\n",
       "      <th>11</th>\n",
       "      <td>4</td>\n",
       "      <td>0</td>\n",
       "      <td>33</td>\n",
       "    </tr>\n",
       "    <tr>\n",
       "      <th>12</th>\n",
       "      <td>1</td>\n",
       "      <td>9</td>\n",
       "      <td>2</td>\n",
       "    </tr>\n",
       "    <tr>\n",
       "      <th>13</th>\n",
       "      <td>3</td>\n",
       "      <td>2</td>\n",
       "      <td>4</td>\n",
       "    </tr>\n",
       "    <tr>\n",
       "      <th>14</th>\n",
       "      <td>6</td>\n",
       "      <td>4</td>\n",
       "      <td>1</td>\n",
       "    </tr>\n",
       "  </tbody>\n",
       "</table>\n",
       "</div>"
      ],
      "text/plain": [
       "    a   b   c\n",
       "0   1   1   2\n",
       "1   1   3   4\n",
       "2   2  10   5\n",
       "3   3   3   2\n",
       "4   3   2   3\n",
       "5   1   1   5\n",
       "6   1   3   2\n",
       "7   2  10   3\n",
       "8   3   3   9\n",
       "9   3   3   2\n",
       "10  4  12  44\n",
       "11  4   0  33\n",
       "12  1   9   2\n",
       "13  3   2   4\n",
       "14  6   4   1"
      ]
     },
     "execution_count": 4,
     "metadata": {},
     "output_type": "execute_result"
    }
   ],
   "source": [
    "pdf = pd.DataFrame(dict(a=[1, 1, 2, 3, 3, 1, 1, 2, 3, 3, 4, 4, 1, 3, 6],b=[1, 3, 10, 3, 2, 1, 3, 10, 3, 3, 12, 0, 9, 2, 4],c=[2, 4, 5, 2, 3, 5, 2, 3, 9, 2, 44, 33, 2, 4,1]))\n",
    "pdf"
   ]
  },
  {
   "cell_type": "code",
   "execution_count": 5,
   "metadata": {
    "execution": {
     "iopub.execute_input": "2020-10-27T20:10:57.740710Z",
     "iopub.status.busy": "2020-10-27T20:10:57.740533Z",
     "iopub.status.idle": "2020-10-27T20:10:57.757984Z",
     "shell.execute_reply": "2020-10-27T20:10:57.757619Z",
     "shell.execute_reply.started": "2020-10-27T20:10:57.740682Z"
    }
   },
   "outputs": [
    {
     "data": {
      "text/html": [
       "<div><strong>Dask DataFrame Structure:</strong></div>\n",
       "<div>\n",
       "<style scoped>\n",
       "    .dataframe tbody tr th:only-of-type {\n",
       "        vertical-align: middle;\n",
       "    }\n",
       "\n",
       "    .dataframe tbody tr th {\n",
       "        vertical-align: top;\n",
       "    }\n",
       "\n",
       "    .dataframe thead th {\n",
       "        text-align: right;\n",
       "    }\n",
       "</style>\n",
       "<table border=\"1\" class=\"dataframe\">\n",
       "  <thead>\n",
       "    <tr style=\"text-align: right;\">\n",
       "      <th></th>\n",
       "      <th>a</th>\n",
       "      <th>b</th>\n",
       "      <th>c</th>\n",
       "    </tr>\n",
       "    <tr>\n",
       "      <th>npartitions=3</th>\n",
       "      <th></th>\n",
       "      <th></th>\n",
       "      <th></th>\n",
       "    </tr>\n",
       "  </thead>\n",
       "  <tbody>\n",
       "    <tr>\n",
       "      <th>0</th>\n",
       "      <td>int64</td>\n",
       "      <td>int64</td>\n",
       "      <td>int64</td>\n",
       "    </tr>\n",
       "    <tr>\n",
       "      <th>5</th>\n",
       "      <td>...</td>\n",
       "      <td>...</td>\n",
       "      <td>...</td>\n",
       "    </tr>\n",
       "    <tr>\n",
       "      <th>10</th>\n",
       "      <td>...</td>\n",
       "      <td>...</td>\n",
       "      <td>...</td>\n",
       "    </tr>\n",
       "    <tr>\n",
       "      <th>14</th>\n",
       "      <td>...</td>\n",
       "      <td>...</td>\n",
       "      <td>...</td>\n",
       "    </tr>\n",
       "  </tbody>\n",
       "</table>\n",
       "</div>\n",
       "<div>Dask Name: from_pandas, 3 tasks</div>"
      ],
      "text/plain": [
       "Dask DataFrame Structure:\n",
       "                   a      b      c\n",
       "npartitions=3                     \n",
       "0              int64  int64  int64\n",
       "5                ...    ...    ...\n",
       "10               ...    ...    ...\n",
       "14               ...    ...    ...\n",
       "Dask Name: from_pandas, 3 tasks"
      ]
     },
     "execution_count": 5,
     "metadata": {},
     "output_type": "execute_result"
    }
   ],
   "source": [
    "ddf = dd.from_pandas(pdf, npartitions=3)\n",
    "ddf"
   ]
  },
  {
   "cell_type": "code",
   "execution_count": 6,
   "metadata": {
    "execution": {
     "iopub.execute_input": "2020-10-27T20:11:25.326050Z",
     "iopub.status.busy": "2020-10-27T20:11:25.325395Z",
     "iopub.status.idle": "2020-10-27T20:11:25.363616Z",
     "shell.execute_reply": "2020-10-27T20:11:25.362726Z",
     "shell.execute_reply.started": "2020-10-27T20:11:25.325977Z"
    }
   },
   "outputs": [
    {
     "data": {
      "text/html": [
       "<div>\n",
       "<style scoped>\n",
       "    .dataframe tbody tr th:only-of-type {\n",
       "        vertical-align: middle;\n",
       "    }\n",
       "\n",
       "    .dataframe tbody tr th {\n",
       "        vertical-align: top;\n",
       "    }\n",
       "\n",
       "    .dataframe thead th {\n",
       "        text-align: right;\n",
       "    }\n",
       "</style>\n",
       "<table border=\"1\" class=\"dataframe\">\n",
       "  <thead>\n",
       "    <tr style=\"text-align: right;\">\n",
       "      <th></th>\n",
       "      <th>a</th>\n",
       "      <th>b</th>\n",
       "      <th>c</th>\n",
       "    </tr>\n",
       "  </thead>\n",
       "  <tbody>\n",
       "    <tr>\n",
       "      <th>10</th>\n",
       "      <td>4</td>\n",
       "      <td>12</td>\n",
       "      <td>44</td>\n",
       "    </tr>\n",
       "    <tr>\n",
       "      <th>11</th>\n",
       "      <td>4</td>\n",
       "      <td>0</td>\n",
       "      <td>33</td>\n",
       "    </tr>\n",
       "    <tr>\n",
       "      <th>12</th>\n",
       "      <td>1</td>\n",
       "      <td>9</td>\n",
       "      <td>2</td>\n",
       "    </tr>\n",
       "    <tr>\n",
       "      <th>13</th>\n",
       "      <td>3</td>\n",
       "      <td>2</td>\n",
       "      <td>4</td>\n",
       "    </tr>\n",
       "    <tr>\n",
       "      <th>14</th>\n",
       "      <td>6</td>\n",
       "      <td>4</td>\n",
       "      <td>1</td>\n",
       "    </tr>\n",
       "  </tbody>\n",
       "</table>\n",
       "</div>"
      ],
      "text/plain": [
       "    a   b   c\n",
       "10  4  12  44\n",
       "11  4   0  33\n",
       "12  1   9   2\n",
       "13  3   2   4\n",
       "14  6   4   1"
      ]
     },
     "execution_count": 6,
     "metadata": {},
     "output_type": "execute_result"
    }
   ],
   "source": [
    "ddf.partitions[2].compute()"
   ]
  },
  {
   "cell_type": "code",
   "execution_count": 7,
   "metadata": {
    "execution": {
     "iopub.execute_input": "2020-10-27T20:11:35.704786Z",
     "iopub.status.busy": "2020-10-27T20:11:35.704152Z",
     "iopub.status.idle": "2020-10-27T20:11:35.709705Z",
     "shell.execute_reply": "2020-10-27T20:11:35.709217Z",
     "shell.execute_reply.started": "2020-10-27T20:11:35.704713Z"
    }
   },
   "outputs": [],
   "source": [
    "sdf1 = pdf[:5]\n",
    "sdf2 = pdf[5:10]\n",
    "sdf3 = pdf[10:]"
   ]
  },
  {
   "cell_type": "code",
   "execution_count": 8,
   "metadata": {
    "execution": {
     "iopub.execute_input": "2020-10-27T20:11:47.001508Z",
     "iopub.status.busy": "2020-10-27T20:11:47.001299Z",
     "iopub.status.idle": "2020-10-27T20:11:47.009948Z",
     "shell.execute_reply": "2020-10-27T20:11:47.009557Z",
     "shell.execute_reply.started": "2020-10-27T20:11:47.001479Z"
    }
   },
   "outputs": [],
   "source": [
    "gp1 = sdf1.groupby(['a', 'b']).c.sum()\n",
    "gp2 = sdf2.groupby(['a', 'b']).c.sum()\n",
    "gp3 = sdf3.groupby(['a', 'b']).c.sum()"
   ]
  },
  {
   "cell_type": "code",
   "execution_count": 9,
   "metadata": {
    "execution": {
     "iopub.execute_input": "2020-10-27T20:11:55.992926Z",
     "iopub.status.busy": "2020-10-27T20:11:55.992752Z",
     "iopub.status.idle": "2020-10-27T20:11:56.005110Z",
     "shell.execute_reply": "2020-10-27T20:11:56.004714Z",
     "shell.execute_reply.started": "2020-10-27T20:11:55.992908Z"
    }
   },
   "outputs": [
    {
     "data": {
      "text/plain": [
       "(a  b \n",
       " 1  1     2\n",
       "    3     4\n",
       " 2  10    5\n",
       " 3  2     3\n",
       "    3     2\n",
       " Name: c, dtype: int64,\n",
       " a  b \n",
       " 1  1      5\n",
       "    3      2\n",
       " 2  10     3\n",
       " 3  3     11\n",
       " Name: c, dtype: int64,\n",
       " a  b \n",
       " 1  9      2\n",
       " 3  2      4\n",
       " 4  0     33\n",
       "    12    44\n",
       " 6  4      1\n",
       " Name: c, dtype: int64)"
      ]
     },
     "execution_count": 9,
     "metadata": {},
     "output_type": "execute_result"
    }
   ],
   "source": [
    "gp1,gp2,gp3"
   ]
  },
  {
   "cell_type": "code",
   "execution_count": 10,
   "metadata": {
    "execution": {
     "iopub.execute_input": "2020-10-27T20:12:05.661072Z",
     "iopub.status.busy": "2020-10-27T20:12:05.660813Z",
     "iopub.status.idle": "2020-10-27T20:12:05.667118Z",
     "shell.execute_reply": "2020-10-27T20:12:05.666207Z",
     "shell.execute_reply.started": "2020-10-27T20:12:05.661044Z"
    }
   },
   "outputs": [],
   "source": [
    "concated_gp = pd.concat([gp1, gp2, gp3])"
   ]
  },
  {
   "cell_type": "code",
   "execution_count": 11,
   "metadata": {
    "execution": {
     "iopub.execute_input": "2020-10-27T20:12:15.117879Z",
     "iopub.status.busy": "2020-10-27T20:12:15.117667Z",
     "iopub.status.idle": "2020-10-27T20:12:15.123130Z",
     "shell.execute_reply": "2020-10-27T20:12:15.122334Z",
     "shell.execute_reply.started": "2020-10-27T20:12:15.117856Z"
    }
   },
   "outputs": [
    {
     "data": {
      "text/plain": [
       "a  b \n",
       "1  1      2\n",
       "   3      4\n",
       "2  10     5\n",
       "3  2      3\n",
       "   3      2\n",
       "1  1      5\n",
       "   3      2\n",
       "2  10     3\n",
       "3  3     11\n",
       "1  9      2\n",
       "3  2      4\n",
       "4  0     33\n",
       "   12    44\n",
       "6  4      1\n",
       "Name: c, dtype: int64"
      ]
     },
     "execution_count": 11,
     "metadata": {},
     "output_type": "execute_result"
    }
   ],
   "source": [
    "concated_gp"
   ]
  },
  {
   "cell_type": "code",
   "execution_count": 12,
   "metadata": {
    "execution": {
     "iopub.execute_input": "2020-10-27T20:12:26.833300Z",
     "iopub.status.busy": "2020-10-27T20:12:26.833120Z",
     "iopub.status.idle": "2020-10-27T20:12:26.837234Z",
     "shell.execute_reply": "2020-10-27T20:12:26.836868Z",
     "shell.execute_reply.started": "2020-10-27T20:12:26.833272Z"
    }
   },
   "outputs": [],
   "source": [
    "total = concated_gp.groupby(level=[0, 1]).sum()"
   ]
  },
  {
   "cell_type": "code",
   "execution_count": 13,
   "metadata": {
    "execution": {
     "iopub.execute_input": "2020-10-27T20:12:29.928184Z",
     "iopub.status.busy": "2020-10-27T20:12:29.928008Z",
     "iopub.status.idle": "2020-10-27T20:12:29.931931Z",
     "shell.execute_reply": "2020-10-27T20:12:29.931594Z",
     "shell.execute_reply.started": "2020-10-27T20:12:29.928156Z"
    }
   },
   "outputs": [
    {
     "data": {
      "text/plain": [
       "a  b \n",
       "1  1      7\n",
       "   3      6\n",
       "   9      2\n",
       "2  10     8\n",
       "3  2      7\n",
       "   3     13\n",
       "4  0     33\n",
       "   12    44\n",
       "6  4      1\n",
       "Name: c, dtype: int64"
      ]
     },
     "execution_count": 13,
     "metadata": {},
     "output_type": "execute_result"
    }
   ],
   "source": [
    "total"
   ]
  },
  {
   "cell_type": "code",
   "execution_count": 14,
   "metadata": {
    "execution": {
     "iopub.execute_input": "2020-10-27T20:12:39.377822Z",
     "iopub.status.busy": "2020-10-27T20:12:39.377194Z",
     "iopub.status.idle": "2020-10-27T20:12:39.385920Z",
     "shell.execute_reply": "2020-10-27T20:12:39.385482Z",
     "shell.execute_reply.started": "2020-10-27T20:12:39.377749Z"
    }
   },
   "outputs": [
    {
     "data": {
      "text/plain": [
       "a  b \n",
       "1  1      7\n",
       "   3      6\n",
       "   9      2\n",
       "2  10     8\n",
       "3  2      7\n",
       "   3     13\n",
       "4  0     33\n",
       "   12    44\n",
       "6  4      1\n",
       "Name: c, dtype: int64"
      ]
     },
     "execution_count": 14,
     "metadata": {},
     "output_type": "execute_result"
    }
   ],
   "source": [
    "pdf.groupby(['a', 'b']).c.sum()"
   ]
  },
  {
   "cell_type": "code",
   "execution_count": 15,
   "metadata": {
    "execution": {
     "iopub.execute_input": "2020-10-27T20:12:48.079026Z",
     "iopub.status.busy": "2020-10-27T20:12:48.078346Z",
     "iopub.status.idle": "2020-10-27T20:12:48.097849Z",
     "shell.execute_reply": "2020-10-27T20:12:48.097455Z",
     "shell.execute_reply.started": "2020-10-27T20:12:48.078921Z"
    }
   },
   "outputs": [
    {
     "data": {
      "text/plain": [
       "a  b \n",
       "1  1      7\n",
       "   3      6\n",
       "2  10     8\n",
       "3  2      7\n",
       "   3     13\n",
       "1  9      2\n",
       "4  0     33\n",
       "   12    44\n",
       "6  4      1\n",
       "Name: c, dtype: int64"
      ]
     },
     "execution_count": 15,
     "metadata": {},
     "output_type": "execute_result"
    }
   ],
   "source": [
    "ddf.groupby(['a', 'b']).c.sum().compute()"
   ]
  },
  {
   "cell_type": "code",
   "execution_count": null,
   "metadata": {},
   "outputs": [],
   "source": []
  }
 ],
 "metadata": {
  "kernelspec": {
   "display_name": "env",
   "language": "python",
   "name": "env"
  },
  "language_info": {
   "codemirror_mode": {
    "name": "ipython",
    "version": 3
   },
   "file_extension": ".py",
   "mimetype": "text/x-python",
   "name": "python",
   "nbconvert_exporter": "python",
   "pygments_lexer": "ipython3",
   "version": "3.8.5"
  }
 },
 "nbformat": 4,
 "nbformat_minor": 4
}
