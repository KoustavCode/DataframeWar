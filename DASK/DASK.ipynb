{
 "cells": [
  {
   "cell_type": "markdown",
   "metadata": {
    "execution": {
     "iopub.execute_input": "2020-10-01T16:37:03.041263Z",
     "iopub.status.busy": "2020-10-01T16:37:03.040502Z",
     "iopub.status.idle": "2020-10-01T16:37:03.165486Z",
     "shell.execute_reply": "2020-10-01T16:37:03.164638Z",
     "shell.execute_reply.started": "2020-10-01T16:37:03.041078Z"
    }
   },
   "source": [
    "![title](img/dask.png)"
   ]
  },
  {
   "cell_type": "markdown",
   "metadata": {
    "execution": {
     "iopub.execute_input": "2020-10-04T11:05:15.769260Z",
     "iopub.status.busy": "2020-10-04T11:05:15.769077Z",
     "iopub.status.idle": "2020-10-04T11:05:15.925212Z",
     "shell.execute_reply": "2020-10-04T11:05:15.924073Z",
     "shell.execute_reply.started": "2020-10-04T11:05:15.769213Z"
    }
   },
   "source": [
    "![title](img/parallel.jpg)"
   ]
  },
  {
   "cell_type": "markdown",
   "metadata": {},
   "source": [
    "#### **Dask provides advanced parallelism for analytics, enabling performance at scale for the tools you love**\n",
    "\n",
    "#### **Dask is composed of two parts:**\n",
    "\n",
    "    1. Dynamic task scheduling optimized for computation. This is similar to Airflow, Luigi, Celery, or Make, but optimized for interactive computational workloads.\n",
    "    2. “Big Data” collections like parallel arrays, dataframes, and lists that extend common interfaces like NumPy, Pandas, or Python iterators to larger-than-memory or distributed environments. These parallel collections run on top of dynamic task schedulers.\n",
    "    \n",
    "[detailed information here](https://docs.dask.org/en/latest/)"
   ]
  },
  {
   "cell_type": "markdown",
   "metadata": {
    "execution": {
     "iopub.execute_input": "2020-10-01T17:24:03.419056Z",
     "iopub.status.busy": "2020-10-01T17:24:03.418845Z",
     "iopub.status.idle": "2020-10-01T17:24:03.424867Z",
     "shell.execute_reply": "2020-10-01T17:24:03.424219Z",
     "shell.execute_reply.started": "2020-10-01T17:24:03.419032Z"
    }
   },
   "source": [
    "#### **DASK with all its features:**\n",
    "    • Built in Python\n",
    "    • Scales properly from single laptops to 1000-node clusters\n",
    "    • Leverages and interops with existing Python APIs as much as possible\n",
    "    • Adheres to (Tim Peters') \"Zen of Python\" (https://www.python.org/dev/peps/pep-0020/) ... especially these elements:\n",
    "        ◦ Explicit is better than implicit.\n",
    "        ◦ Simple is better than complex.\n",
    "        ◦ Complex is better than complicated.\n",
    "        ◦ Readability counts. [ed: that goes for docs, too!]\n",
    "        ◦ Special cases aren't special enough to break the rules.\n",
    "        ◦ Although practicality beats purity.\n",
    "        ◦ In the face of ambiguity, refuse the temptation to guess.\n",
    "        ◦ If the implementation is hard to explain, it's a bad idea.\n",
    "        ◦ If the implementation is easy to explain, it may be a good idea.\n",
    "    • While we're borrowing inspiration, it Dask embodies one of Perl's slogans, making easy things easy and hard things possible\n",
    "        ◦ Specifically, it supports common data-parallel abstractions like Pandas and Numpy\n",
    "        ◦ But also allows scheduling arbitary custom computation that doesn't fit a preset mold\n",
    "   \n",
    "\n",
    "    \n"
   ]
  },
  {
   "cell_type": "markdown",
   "metadata": {},
   "source": [
    "#### **Dask emphasizes the following virtues:**\n",
    "\n",
    "\n",
    "    • Familiar: Provides parallelized NumPy array and Pandas DataFrame objects\n",
    "    • Flexible: Provides a task scheduling interface for more custom workloads and integration with other projects.\n",
    "    • Native: Enables distributed computing in pure Python with access to the PyData stack.\n",
    "    • Fast: Operates with low overhead, low latency, and minimal serialization necessary for fast numerical algorithms\n",
    "    • Scales up: Runs resiliently on clusters with 1000s of cores\n",
    "    • Scales down: Trivial to set up and run on a laptop in a single process\n",
    "    • Responsive: Designed with interactive computing in mind, it provides rapid feedback and diagnostics to aid humans."
   ]
  },
  {
   "cell_type": "code",
   "execution_count": 8,
   "metadata": {
    "execution": {
     "iopub.execute_input": "2020-11-01T20:11:09.805895Z",
     "iopub.status.busy": "2020-11-01T20:11:09.805202Z",
     "iopub.status.idle": "2020-11-01T20:12:34.157846Z",
     "shell.execute_reply": "2020-11-01T20:12:34.156984Z",
     "shell.execute_reply.started": "2020-11-01T20:11:09.805825Z"
    }
   },
   "outputs": [],
   "source": [
    "import dask.dataframe as dd\n",
    "import s3fs\n",
    "# ddf = dd.read_csv('/home/koustav/Documents/DataframeWar/Data/yellow_tripdata_2020-01.csv',\n",
    "#                        dtype={'RatecodeID': 'float64', 'VendorID': 'float64', 'passenger_count':'float64', 'payment_type': 'float64'},assume_missing=True, blocksize=12e6)\n",
    "\n",
    "taxi_dtypes = {\n",
    "    'store_and_fwd_flag': str,\n",
    "    'RatecodeID': 'float64',\n",
    "    'VendorID': 'float64',\n",
    "    'passenger_count': 'float64',\n",
    "    'payment_type': 'float64',\n",
    "}\n",
    "\n",
    "\n",
    "\n",
    "ddf = dd.read_csv(\n",
    "    's3://nyc-tlc/trip data/yellow_tripdata_2020-01.csv',\n",
    "    dtype=taxi_dtypes, \n",
    "    parse_dates=['tpep_pickup_datetime', 'tpep_dropoff_datetime'],\n",
    "    storage_options={'anon': True},\n",
    ")"
   ]
  },
  {
   "cell_type": "code",
   "execution_count": 10,
   "metadata": {
    "execution": {
     "iopub.execute_input": "2020-11-01T20:21:57.130883Z",
     "iopub.status.busy": "2020-11-01T20:21:57.130577Z",
     "iopub.status.idle": "2020-11-01T20:21:57.136202Z",
     "shell.execute_reply": "2020-11-01T20:21:57.135532Z",
     "shell.execute_reply.started": "2020-11-01T20:21:57.130851Z"
    }
   },
   "outputs": [
    {
     "name": "stdout",
     "output_type": "stream",
     "text": [
      "CPU times: user 5 µs, sys: 1e+03 ns, total: 6 µs\n",
      "Wall time: 10 µs\n"
     ]
    }
   ],
   "source": [
    "%%time\n",
    "len(ddf)"
   ]
  },
  {
   "cell_type": "code",
   "execution_count": 6,
   "metadata": {
    "execution": {
     "iopub.execute_input": "2020-11-01T20:08:19.696781Z",
     "iopub.status.busy": "2020-11-01T20:08:19.696573Z",
     "iopub.status.idle": "2020-11-01T20:08:19.743386Z",
     "shell.execute_reply": "2020-11-01T20:08:19.742379Z",
     "shell.execute_reply.started": "2020-11-01T20:08:19.696760Z"
    }
   },
   "outputs": [
    {
     "data": {
      "text/html": [
       "<div><strong>Dask DataFrame Structure:</strong></div>\n",
       "<div>\n",
       "<style scoped>\n",
       "    .dataframe tbody tr th:only-of-type {\n",
       "        vertical-align: middle;\n",
       "    }\n",
       "\n",
       "    .dataframe tbody tr th {\n",
       "        vertical-align: top;\n",
       "    }\n",
       "\n",
       "    .dataframe thead th {\n",
       "        text-align: right;\n",
       "    }\n",
       "</style>\n",
       "<table border=\"1\" class=\"dataframe\">\n",
       "  <thead>\n",
       "    <tr style=\"text-align: right;\">\n",
       "      <th></th>\n",
       "      <th>VendorID</th>\n",
       "      <th>tpep_pickup_datetime</th>\n",
       "      <th>tpep_dropoff_datetime</th>\n",
       "      <th>passenger_count</th>\n",
       "      <th>trip_distance</th>\n",
       "      <th>RatecodeID</th>\n",
       "      <th>store_and_fwd_flag</th>\n",
       "      <th>PULocationID</th>\n",
       "      <th>DOLocationID</th>\n",
       "      <th>payment_type</th>\n",
       "      <th>fare_amount</th>\n",
       "      <th>extra</th>\n",
       "      <th>mta_tax</th>\n",
       "      <th>tip_amount</th>\n",
       "      <th>tolls_amount</th>\n",
       "      <th>improvement_surcharge</th>\n",
       "      <th>total_amount</th>\n",
       "      <th>congestion_surcharge</th>\n",
       "    </tr>\n",
       "    <tr>\n",
       "      <th>npartitions=127</th>\n",
       "      <th></th>\n",
       "      <th></th>\n",
       "      <th></th>\n",
       "      <th></th>\n",
       "      <th></th>\n",
       "      <th></th>\n",
       "      <th></th>\n",
       "      <th></th>\n",
       "      <th></th>\n",
       "      <th></th>\n",
       "      <th></th>\n",
       "      <th></th>\n",
       "      <th></th>\n",
       "      <th></th>\n",
       "      <th></th>\n",
       "      <th></th>\n",
       "      <th></th>\n",
       "      <th></th>\n",
       "    </tr>\n",
       "  </thead>\n",
       "  <tbody>\n",
       "    <tr>\n",
       "      <th></th>\n",
       "      <td>float64</td>\n",
       "      <td>datetime64[ns]</td>\n",
       "      <td>datetime64[ns]</td>\n",
       "      <td>float64</td>\n",
       "      <td>float64</td>\n",
       "      <td>float64</td>\n",
       "      <td>object</td>\n",
       "      <td>int64</td>\n",
       "      <td>int64</td>\n",
       "      <td>float64</td>\n",
       "      <td>float64</td>\n",
       "      <td>float64</td>\n",
       "      <td>float64</td>\n",
       "      <td>float64</td>\n",
       "      <td>float64</td>\n",
       "      <td>float64</td>\n",
       "      <td>float64</td>\n",
       "      <td>float64</td>\n",
       "    </tr>\n",
       "    <tr>\n",
       "      <th></th>\n",
       "      <td>...</td>\n",
       "      <td>...</td>\n",
       "      <td>...</td>\n",
       "      <td>...</td>\n",
       "      <td>...</td>\n",
       "      <td>...</td>\n",
       "      <td>...</td>\n",
       "      <td>...</td>\n",
       "      <td>...</td>\n",
       "      <td>...</td>\n",
       "      <td>...</td>\n",
       "      <td>...</td>\n",
       "      <td>...</td>\n",
       "      <td>...</td>\n",
       "      <td>...</td>\n",
       "      <td>...</td>\n",
       "      <td>...</td>\n",
       "      <td>...</td>\n",
       "    </tr>\n",
       "    <tr>\n",
       "      <th>...</th>\n",
       "      <td>...</td>\n",
       "      <td>...</td>\n",
       "      <td>...</td>\n",
       "      <td>...</td>\n",
       "      <td>...</td>\n",
       "      <td>...</td>\n",
       "      <td>...</td>\n",
       "      <td>...</td>\n",
       "      <td>...</td>\n",
       "      <td>...</td>\n",
       "      <td>...</td>\n",
       "      <td>...</td>\n",
       "      <td>...</td>\n",
       "      <td>...</td>\n",
       "      <td>...</td>\n",
       "      <td>...</td>\n",
       "      <td>...</td>\n",
       "      <td>...</td>\n",
       "    </tr>\n",
       "    <tr>\n",
       "      <th></th>\n",
       "      <td>...</td>\n",
       "      <td>...</td>\n",
       "      <td>...</td>\n",
       "      <td>...</td>\n",
       "      <td>...</td>\n",
       "      <td>...</td>\n",
       "      <td>...</td>\n",
       "      <td>...</td>\n",
       "      <td>...</td>\n",
       "      <td>...</td>\n",
       "      <td>...</td>\n",
       "      <td>...</td>\n",
       "      <td>...</td>\n",
       "      <td>...</td>\n",
       "      <td>...</td>\n",
       "      <td>...</td>\n",
       "      <td>...</td>\n",
       "      <td>...</td>\n",
       "    </tr>\n",
       "    <tr>\n",
       "      <th></th>\n",
       "      <td>...</td>\n",
       "      <td>...</td>\n",
       "      <td>...</td>\n",
       "      <td>...</td>\n",
       "      <td>...</td>\n",
       "      <td>...</td>\n",
       "      <td>...</td>\n",
       "      <td>...</td>\n",
       "      <td>...</td>\n",
       "      <td>...</td>\n",
       "      <td>...</td>\n",
       "      <td>...</td>\n",
       "      <td>...</td>\n",
       "      <td>...</td>\n",
       "      <td>...</td>\n",
       "      <td>...</td>\n",
       "      <td>...</td>\n",
       "      <td>...</td>\n",
       "    </tr>\n",
       "  </tbody>\n",
       "</table>\n",
       "</div>\n",
       "<div>Dask Name: try_loc, 254 tasks</div>"
      ],
      "text/plain": [
       "Dask DataFrame Structure:\n",
       "                VendorID tpep_pickup_datetime tpep_dropoff_datetime passenger_count trip_distance RatecodeID store_and_fwd_flag PULocationID DOLocationID payment_type fare_amount    extra  mta_tax tip_amount tolls_amount improvement_surcharge total_amount congestion_surcharge\n",
       "npartitions=127                                                                                                                                                                                                                                                                     \n",
       "                 float64       datetime64[ns]        datetime64[ns]         float64       float64    float64             object        int64        int64      float64     float64  float64  float64    float64      float64               float64      float64              float64\n",
       "                     ...                  ...                   ...             ...           ...        ...                ...          ...          ...          ...         ...      ...      ...        ...          ...                   ...          ...                  ...\n",
       "...                  ...                  ...                   ...             ...           ...        ...                ...          ...          ...          ...         ...      ...      ...        ...          ...                   ...          ...                  ...\n",
       "                     ...                  ...                   ...             ...           ...        ...                ...          ...          ...          ...         ...      ...      ...        ...          ...                   ...          ...                  ...\n",
       "                     ...                  ...                   ...             ...           ...        ...                ...          ...          ...          ...         ...      ...      ...        ...          ...                   ...          ...                  ...\n",
       "Dask Name: try_loc, 254 tasks"
      ]
     },
     "execution_count": 6,
     "metadata": {},
     "output_type": "execute_result"
    }
   ],
   "source": [
    "ddf.loc[0]"
   ]
  },
  {
   "cell_type": "code",
   "execution_count": 3,
   "metadata": {
    "execution": {
     "iopub.execute_input": "2020-10-03T17:39:01.333658Z",
     "iopub.status.busy": "2020-10-03T17:39:01.333499Z",
     "iopub.status.idle": "2020-10-03T17:39:06.296086Z",
     "shell.execute_reply": "2020-10-03T17:39:06.295454Z",
     "shell.execute_reply.started": "2020-10-03T17:39:01.333642Z"
    }
   },
   "outputs": [
    {
     "data": {
      "text/plain": [
       "6405008"
      ]
     },
     "execution_count": 3,
     "metadata": {},
     "output_type": "execute_result"
    }
   ],
   "source": [
    "len(ddf)"
   ]
  },
  {
   "cell_type": "code",
   "execution_count": 3,
   "metadata": {
    "execution": {
     "iopub.execute_input": "2020-10-21T17:14:14.719785Z",
     "iopub.status.busy": "2020-10-21T17:14:14.719142Z",
     "iopub.status.idle": "2020-10-21T17:14:14.754833Z",
     "shell.execute_reply": "2020-10-21T17:14:14.754144Z",
     "shell.execute_reply.started": "2020-10-21T17:14:14.719714Z"
    }
   },
   "outputs": [],
   "source": [
    "ddf_part = dd.read_csv('/home/koustav/Documents/DataframeWar/Data/yellow_tripdata_2020-01.csv',\n",
    "                       dtype={'RatecodeID': 'float64', 'VendorID': 'float64', 'passenger_count':'float64', 'payment_type': 'float64'},assume_missing=True)\n",
    "ddf_part = ddf_part.repartition(npartitions=100)"
   ]
  },
  {
   "cell_type": "code",
   "execution_count": 1,
   "metadata": {
    "execution": {
     "iopub.execute_input": "2020-10-21T17:13:38.080376Z",
     "iopub.status.busy": "2020-10-21T17:13:38.080197Z",
     "iopub.status.idle": "2020-10-21T17:13:47.005106Z",
     "shell.execute_reply": "2020-10-21T17:13:47.004648Z",
     "shell.execute_reply.started": "2020-10-21T17:13:38.080330Z"
    }
   },
   "outputs": [
    {
     "name": "stderr",
     "output_type": "stream",
     "text": [
      "/home/koustav/Documents/DataframeWar/env/lib/python3.8/site-packages/IPython/core/interactiveshell.py:3145: DtypeWarning: Columns (6) have mixed types.Specify dtype option on import or set low_memory=False.\n",
      "  has_raised = await self.run_ast_nodes(code_ast.body, cell_name,\n"
     ]
    }
   ],
   "source": [
    "import pandas as pd\n",
    "pdf = pd.read_csv('/home/koustav/Documents/DataframeWar/Data/yellow_tripdata_2020-01.csv')"
   ]
  },
  {
   "cell_type": "markdown",
   "metadata": {},
   "source": [
    "DataFrame shapes"
   ]
  },
  {
   "cell_type": "code",
   "execution_count": 4,
   "metadata": {
    "execution": {
     "iopub.execute_input": "2020-10-21T17:14:17.576295Z",
     "iopub.status.busy": "2020-10-21T17:14:17.576100Z",
     "iopub.status.idle": "2020-10-21T17:14:17.580740Z",
     "shell.execute_reply": "2020-10-21T17:14:17.580185Z",
     "shell.execute_reply.started": "2020-10-21T17:14:17.576273Z"
    }
   },
   "outputs": [
    {
     "name": "stdout",
     "output_type": "stream",
     "text": [
      "Pandas shape: (6405008, 18)\n",
      "---------------------------\n",
      "Dask lazy shape: (Delayed('int-e4c39bbb-1014-470f-8a9f-9c789aca477c'), 18)\n"
     ]
    }
   ],
   "source": [
    "print(f'Pandas shape: {pdf.shape}')\n",
    "print('---------------------------')\n",
    "print(f'Dask lazy shape: {ddf_part.shape}')"
   ]
  },
  {
   "cell_type": "code",
   "execution_count": 5,
   "metadata": {
    "execution": {
     "iopub.execute_input": "2020-10-21T17:14:32.519887Z",
     "iopub.status.busy": "2020-10-21T17:14:32.519694Z",
     "iopub.status.idle": "2020-10-21T17:14:37.725411Z",
     "shell.execute_reply": "2020-10-21T17:14:37.725038Z",
     "shell.execute_reply.started": "2020-10-21T17:14:32.519859Z"
    }
   },
   "outputs": [
    {
     "name": "stdout",
     "output_type": "stream",
     "text": [
      "Dask computed shape: 6,405,008\n"
     ]
    }
   ],
   "source": [
    "print(f'Dask computed shape: {len(ddf.index):,}')  # expensive\n"
   ]
  },
  {
   "cell_type": "code",
   "execution_count": 5,
   "metadata": {
    "execution": {
     "iopub.execute_input": "2020-10-03T17:39:10.755133Z",
     "iopub.status.busy": "2020-10-03T17:39:10.754950Z",
     "iopub.status.idle": "2020-10-03T17:39:15.707111Z",
     "shell.execute_reply": "2020-10-03T17:39:15.706643Z",
     "shell.execute_reply.started": "2020-10-03T17:39:10.755105Z"
    }
   },
   "outputs": [
    {
     "name": "stderr",
     "output_type": "stream",
     "text": [
      "/home/koustav/Documents/DataframeWar/env/lib/python3.8/site-packages/dask/core.py:121: DtypeWarning: Columns (6) have mixed types.Specify dtype option on import or set low_memory=False.\n",
      "  return func(*(_execute_task(a, cache) for a in args))\n"
     ]
    },
    {
     "data": {
      "text/plain": [
       "6405008"
      ]
     },
     "execution_count": 5,
     "metadata": {},
     "output_type": "execute_result"
    }
   ],
   "source": [
    "len(ddf_part)"
   ]
  },
  {
   "cell_type": "code",
   "execution_count": 6,
   "metadata": {
    "execution": {
     "iopub.execute_input": "2020-10-03T17:39:15.708095Z",
     "iopub.status.busy": "2020-10-03T17:39:15.707872Z",
     "iopub.status.idle": "2020-10-03T17:39:15.730924Z",
     "shell.execute_reply": "2020-10-03T17:39:15.730396Z",
     "shell.execute_reply.started": "2020-10-03T17:39:15.708080Z"
    }
   },
   "outputs": [
    {
     "data": {
      "text/html": [
       "<div><strong>Dask DataFrame Structure:</strong></div>\n",
       "<div>\n",
       "<style scoped>\n",
       "    .dataframe tbody tr th:only-of-type {\n",
       "        vertical-align: middle;\n",
       "    }\n",
       "\n",
       "    .dataframe tbody tr th {\n",
       "        vertical-align: top;\n",
       "    }\n",
       "\n",
       "    .dataframe thead th {\n",
       "        text-align: right;\n",
       "    }\n",
       "</style>\n",
       "<table border=\"1\" class=\"dataframe\">\n",
       "  <thead>\n",
       "    <tr style=\"text-align: right;\">\n",
       "      <th></th>\n",
       "      <th>VendorID</th>\n",
       "      <th>tpep_pickup_datetime</th>\n",
       "      <th>tpep_dropoff_datetime</th>\n",
       "      <th>passenger_count</th>\n",
       "      <th>trip_distance</th>\n",
       "      <th>RatecodeID</th>\n",
       "      <th>store_and_fwd_flag</th>\n",
       "      <th>PULocationID</th>\n",
       "      <th>DOLocationID</th>\n",
       "      <th>payment_type</th>\n",
       "      <th>fare_amount</th>\n",
       "      <th>extra</th>\n",
       "      <th>mta_tax</th>\n",
       "      <th>tip_amount</th>\n",
       "      <th>tolls_amount</th>\n",
       "      <th>improvement_surcharge</th>\n",
       "      <th>total_amount</th>\n",
       "      <th>congestion_surcharge</th>\n",
       "    </tr>\n",
       "    <tr>\n",
       "      <th>npartitions=100</th>\n",
       "      <th></th>\n",
       "      <th></th>\n",
       "      <th></th>\n",
       "      <th></th>\n",
       "      <th></th>\n",
       "      <th></th>\n",
       "      <th></th>\n",
       "      <th></th>\n",
       "      <th></th>\n",
       "      <th></th>\n",
       "      <th></th>\n",
       "      <th></th>\n",
       "      <th></th>\n",
       "      <th></th>\n",
       "      <th></th>\n",
       "      <th></th>\n",
       "      <th></th>\n",
       "      <th></th>\n",
       "    </tr>\n",
       "  </thead>\n",
       "  <tbody>\n",
       "    <tr>\n",
       "      <th></th>\n",
       "      <td>float64</td>\n",
       "      <td>object</td>\n",
       "      <td>object</td>\n",
       "      <td>float64</td>\n",
       "      <td>float64</td>\n",
       "      <td>float64</td>\n",
       "      <td>object</td>\n",
       "      <td>float64</td>\n",
       "      <td>float64</td>\n",
       "      <td>float64</td>\n",
       "      <td>float64</td>\n",
       "      <td>float64</td>\n",
       "      <td>float64</td>\n",
       "      <td>float64</td>\n",
       "      <td>float64</td>\n",
       "      <td>float64</td>\n",
       "      <td>float64</td>\n",
       "      <td>float64</td>\n",
       "    </tr>\n",
       "    <tr>\n",
       "      <th></th>\n",
       "      <td>...</td>\n",
       "      <td>...</td>\n",
       "      <td>...</td>\n",
       "      <td>...</td>\n",
       "      <td>...</td>\n",
       "      <td>...</td>\n",
       "      <td>...</td>\n",
       "      <td>...</td>\n",
       "      <td>...</td>\n",
       "      <td>...</td>\n",
       "      <td>...</td>\n",
       "      <td>...</td>\n",
       "      <td>...</td>\n",
       "      <td>...</td>\n",
       "      <td>...</td>\n",
       "      <td>...</td>\n",
       "      <td>...</td>\n",
       "      <td>...</td>\n",
       "    </tr>\n",
       "    <tr>\n",
       "      <th>...</th>\n",
       "      <td>...</td>\n",
       "      <td>...</td>\n",
       "      <td>...</td>\n",
       "      <td>...</td>\n",
       "      <td>...</td>\n",
       "      <td>...</td>\n",
       "      <td>...</td>\n",
       "      <td>...</td>\n",
       "      <td>...</td>\n",
       "      <td>...</td>\n",
       "      <td>...</td>\n",
       "      <td>...</td>\n",
       "      <td>...</td>\n",
       "      <td>...</td>\n",
       "      <td>...</td>\n",
       "      <td>...</td>\n",
       "      <td>...</td>\n",
       "      <td>...</td>\n",
       "    </tr>\n",
       "    <tr>\n",
       "      <th></th>\n",
       "      <td>...</td>\n",
       "      <td>...</td>\n",
       "      <td>...</td>\n",
       "      <td>...</td>\n",
       "      <td>...</td>\n",
       "      <td>...</td>\n",
       "      <td>...</td>\n",
       "      <td>...</td>\n",
       "      <td>...</td>\n",
       "      <td>...</td>\n",
       "      <td>...</td>\n",
       "      <td>...</td>\n",
       "      <td>...</td>\n",
       "      <td>...</td>\n",
       "      <td>...</td>\n",
       "      <td>...</td>\n",
       "      <td>...</td>\n",
       "      <td>...</td>\n",
       "    </tr>\n",
       "    <tr>\n",
       "      <th></th>\n",
       "      <td>...</td>\n",
       "      <td>...</td>\n",
       "      <td>...</td>\n",
       "      <td>...</td>\n",
       "      <td>...</td>\n",
       "      <td>...</td>\n",
       "      <td>...</td>\n",
       "      <td>...</td>\n",
       "      <td>...</td>\n",
       "      <td>...</td>\n",
       "      <td>...</td>\n",
       "      <td>...</td>\n",
       "      <td>...</td>\n",
       "      <td>...</td>\n",
       "      <td>...</td>\n",
       "      <td>...</td>\n",
       "      <td>...</td>\n",
       "      <td>...</td>\n",
       "    </tr>\n",
       "  </tbody>\n",
       "</table>\n",
       "</div>\n",
       "<div>Dask Name: try_loc, 220 tasks</div>"
      ],
      "text/plain": [
       "Dask DataFrame Structure:\n",
       "                VendorID tpep_pickup_datetime tpep_dropoff_datetime passenger_count trip_distance RatecodeID store_and_fwd_flag PULocationID DOLocationID payment_type fare_amount    extra  mta_tax tip_amount tolls_amount improvement_surcharge total_amount congestion_surcharge\n",
       "npartitions=100                                                                                                                                                                                                                                                                     \n",
       "                 float64               object                object         float64       float64    float64             object      float64      float64      float64     float64  float64  float64    float64      float64               float64      float64              float64\n",
       "                     ...                  ...                   ...             ...           ...        ...                ...          ...          ...          ...         ...      ...      ...        ...          ...                   ...          ...                  ...\n",
       "...                  ...                  ...                   ...             ...           ...        ...                ...          ...          ...          ...         ...      ...      ...        ...          ...                   ...          ...                  ...\n",
       "                     ...                  ...                   ...             ...           ...        ...                ...          ...          ...          ...         ...      ...      ...        ...          ...                   ...          ...                  ...\n",
       "                     ...                  ...                   ...             ...           ...        ...                ...          ...          ...          ...         ...      ...      ...        ...          ...                   ...          ...                  ...\n",
       "Dask Name: try_loc, 220 tasks"
      ]
     },
     "execution_count": 6,
     "metadata": {},
     "output_type": "execute_result"
    }
   ],
   "source": [
    "ddf_part.loc[0]"
   ]
  },
  {
   "cell_type": "markdown",
   "metadata": {
    "execution": {
     "iopub.execute_input": "2020-10-03T17:56:13.113883Z",
     "iopub.status.busy": "2020-10-03T17:56:13.113247Z",
     "iopub.status.idle": "2020-10-03T17:56:13.248909Z",
     "shell.execute_reply": "2020-10-03T17:56:13.248306Z",
     "shell.execute_reply.started": "2020-10-03T17:56:13.113813Z"
    }
   },
   "source": [
    "![title](img/dask-dataframe.png)"
   ]
  },
  {
   "cell_type": "code",
   "execution_count": 11,
   "metadata": {
    "execution": {
     "iopub.execute_input": "2020-10-01T20:40:19.128281Z",
     "iopub.status.busy": "2020-10-01T20:40:19.127327Z",
     "iopub.status.idle": "2020-10-01T20:40:19.162476Z",
     "shell.execute_reply": "2020-10-01T20:40:19.161917Z",
     "shell.execute_reply.started": "2020-10-01T20:40:19.128167Z"
    }
   },
   "outputs": [],
   "source": [
    "import dask.dataframe as dd"
   ]
  },
  {
   "cell_type": "code",
   "execution_count": 8,
   "metadata": {
    "execution": {
     "iopub.execute_input": "2020-10-03T18:06:24.043627Z",
     "iopub.status.busy": "2020-10-03T18:06:24.043137Z",
     "iopub.status.idle": "2020-10-03T18:06:24.059103Z",
     "shell.execute_reply": "2020-10-03T18:06:24.058765Z",
     "shell.execute_reply.started": "2020-10-03T18:06:24.043570Z"
    }
   },
   "outputs": [],
   "source": [
    "ddf = dd.read_csv('/home/koustav/Documents/DataframeWar/Data/weather.csv')"
   ]
  },
  {
   "cell_type": "code",
   "execution_count": 16,
   "metadata": {
    "execution": {
     "iopub.execute_input": "2020-10-03T18:09:11.906423Z",
     "iopub.status.busy": "2020-10-03T18:09:11.906277Z",
     "iopub.status.idle": "2020-10-03T18:09:11.924004Z",
     "shell.execute_reply": "2020-10-03T18:09:11.923575Z",
     "shell.execute_reply.started": "2020-10-03T18:09:11.906409Z"
    }
   },
   "outputs": [
    {
     "data": {
      "text/html": [
       "<div><strong>Dask DataFrame Structure:</strong></div>\n",
       "<div>\n",
       "<style scoped>\n",
       "    .dataframe tbody tr th:only-of-type {\n",
       "        vertical-align: middle;\n",
       "    }\n",
       "\n",
       "    .dataframe tbody tr th {\n",
       "        vertical-align: top;\n",
       "    }\n",
       "\n",
       "    .dataframe thead th {\n",
       "        text-align: right;\n",
       "    }\n",
       "</style>\n",
       "<table border=\"1\" class=\"dataframe\">\n",
       "  <thead>\n",
       "    <tr style=\"text-align: right;\">\n",
       "      <th></th>\n",
       "      <th>date</th>\n",
       "      <th>temp</th>\n",
       "      <th>wind</th>\n",
       "      <th>rainfall</th>\n",
       "      <th>humidity</th>\n",
       "    </tr>\n",
       "    <tr>\n",
       "      <th>npartitions=1</th>\n",
       "      <th></th>\n",
       "      <th></th>\n",
       "      <th></th>\n",
       "      <th></th>\n",
       "      <th></th>\n",
       "    </tr>\n",
       "  </thead>\n",
       "  <tbody>\n",
       "    <tr>\n",
       "      <th></th>\n",
       "      <td>int64</td>\n",
       "      <td>float64</td>\n",
       "      <td>float64</td>\n",
       "      <td>float64</td>\n",
       "      <td>float64</td>\n",
       "    </tr>\n",
       "    <tr>\n",
       "      <th></th>\n",
       "      <td>...</td>\n",
       "      <td>...</td>\n",
       "      <td>...</td>\n",
       "      <td>...</td>\n",
       "      <td>...</td>\n",
       "    </tr>\n",
       "  </tbody>\n",
       "</table>\n",
       "</div>\n",
       "<div>Dask Name: try_loc, 2 tasks</div>"
      ],
      "text/plain": [
       "Dask DataFrame Structure:\n",
       "                date     temp     wind rainfall humidity\n",
       "npartitions=1                                           \n",
       "               int64  float64  float64  float64  float64\n",
       "                 ...      ...      ...      ...      ...\n",
       "Dask Name: try_loc, 2 tasks"
      ]
     },
     "execution_count": 16,
     "metadata": {},
     "output_type": "execute_result"
    }
   ],
   "source": [
    "ddf.npartitions\n",
    "len(ddf)\n",
    "ddf.loc[0]"
   ]
  },
  {
   "cell_type": "code",
   "execution_count": 21,
   "metadata": {
    "execution": {
     "iopub.execute_input": "2020-10-03T18:10:15.582339Z",
     "iopub.status.busy": "2020-10-03T18:10:15.582148Z",
     "iopub.status.idle": "2020-10-03T18:10:15.585423Z",
     "shell.execute_reply": "2020-10-03T18:10:15.584870Z",
     "shell.execute_reply.started": "2020-10-03T18:10:15.582323Z"
    }
   },
   "outputs": [],
   "source": [
    "ddf_part = ddf.repartition(npartitions=10)\n"
   ]
  },
  {
   "cell_type": "code",
   "execution_count": 22,
   "metadata": {
    "execution": {
     "iopub.execute_input": "2020-10-03T18:10:16.039001Z",
     "iopub.status.busy": "2020-10-03T18:10:16.038706Z",
     "iopub.status.idle": "2020-10-03T18:10:16.066030Z",
     "shell.execute_reply": "2020-10-03T18:10:16.065098Z",
     "shell.execute_reply.started": "2020-10-03T18:10:16.038968Z"
    }
   },
   "outputs": [
    {
     "data": {
      "text/html": [
       "<div><strong>Dask DataFrame Structure:</strong></div>\n",
       "<div>\n",
       "<style scoped>\n",
       "    .dataframe tbody tr th:only-of-type {\n",
       "        vertical-align: middle;\n",
       "    }\n",
       "\n",
       "    .dataframe tbody tr th {\n",
       "        vertical-align: top;\n",
       "    }\n",
       "\n",
       "    .dataframe thead th {\n",
       "        text-align: right;\n",
       "    }\n",
       "</style>\n",
       "<table border=\"1\" class=\"dataframe\">\n",
       "  <thead>\n",
       "    <tr style=\"text-align: right;\">\n",
       "      <th></th>\n",
       "      <th>date</th>\n",
       "      <th>temp</th>\n",
       "      <th>wind</th>\n",
       "      <th>rainfall</th>\n",
       "      <th>humidity</th>\n",
       "    </tr>\n",
       "    <tr>\n",
       "      <th>npartitions=10</th>\n",
       "      <th></th>\n",
       "      <th></th>\n",
       "      <th></th>\n",
       "      <th></th>\n",
       "      <th></th>\n",
       "    </tr>\n",
       "  </thead>\n",
       "  <tbody>\n",
       "    <tr>\n",
       "      <th></th>\n",
       "      <td>int64</td>\n",
       "      <td>float64</td>\n",
       "      <td>float64</td>\n",
       "      <td>float64</td>\n",
       "      <td>float64</td>\n",
       "    </tr>\n",
       "    <tr>\n",
       "      <th></th>\n",
       "      <td>...</td>\n",
       "      <td>...</td>\n",
       "      <td>...</td>\n",
       "      <td>...</td>\n",
       "      <td>...</td>\n",
       "    </tr>\n",
       "    <tr>\n",
       "      <th>...</th>\n",
       "      <td>...</td>\n",
       "      <td>...</td>\n",
       "      <td>...</td>\n",
       "      <td>...</td>\n",
       "      <td>...</td>\n",
       "    </tr>\n",
       "    <tr>\n",
       "      <th></th>\n",
       "      <td>...</td>\n",
       "      <td>...</td>\n",
       "      <td>...</td>\n",
       "      <td>...</td>\n",
       "      <td>...</td>\n",
       "    </tr>\n",
       "    <tr>\n",
       "      <th></th>\n",
       "      <td>...</td>\n",
       "      <td>...</td>\n",
       "      <td>...</td>\n",
       "      <td>...</td>\n",
       "      <td>...</td>\n",
       "    </tr>\n",
       "  </tbody>\n",
       "</table>\n",
       "</div>\n",
       "<div>Dask Name: try_loc, 22 tasks</div>"
      ],
      "text/plain": [
       "Dask DataFrame Structure:\n",
       "                 date     temp     wind rainfall humidity\n",
       "npartitions=10                                           \n",
       "                int64  float64  float64  float64  float64\n",
       "                  ...      ...      ...      ...      ...\n",
       "...               ...      ...      ...      ...      ...\n",
       "                  ...      ...      ...      ...      ...\n",
       "                  ...      ...      ...      ...      ...\n",
       "Dask Name: try_loc, 22 tasks"
      ]
     },
     "execution_count": 22,
     "metadata": {},
     "output_type": "execute_result"
    }
   ],
   "source": [
    "len(ddf_part)\n",
    "ddf_part.loc[0]"
   ]
  },
  {
   "cell_type": "markdown",
   "metadata": {
    "execution": {
     "iopub.execute_input": "2020-10-03T18:10:21.789926Z",
     "iopub.status.busy": "2020-10-03T18:10:21.789770Z",
     "iopub.status.idle": "2020-10-03T18:10:21.835442Z",
     "shell.execute_reply": "2020-10-03T18:10:21.834646Z",
     "shell.execute_reply.started": "2020-10-03T18:10:21.789910Z"
    }
   },
   "source": [
    "[The perfect formula to set the number of performance](https://stackoverflow.com/questions/44657631/strategy-for-partitioning-dask-dataframes-efficiently)"
   ]
  },
  {
   "cell_type": "code",
   "execution_count": 26,
   "metadata": {
    "execution": {
     "iopub.execute_input": "2020-10-03T18:39:18.980467Z",
     "iopub.status.busy": "2020-10-03T18:39:18.979827Z",
     "iopub.status.idle": "2020-10-03T18:39:19.008188Z",
     "shell.execute_reply": "2020-10-03T18:39:19.007821Z",
     "shell.execute_reply.started": "2020-10-03T18:39:18.980395Z"
    }
   },
   "outputs": [
    {
     "data": {
      "text/plain": [
       "0    <class 'pandas.core.frame.DataFrame'>\n",
       "1    <class 'pandas.core.frame.DataFrame'>\n",
       "2    <class 'pandas.core.frame.DataFrame'>\n",
       "3    <class 'pandas.core.frame.DataFrame'>\n",
       "4    <class 'pandas.core.frame.DataFrame'>\n",
       "5    <class 'pandas.core.frame.DataFrame'>\n",
       "6    <class 'pandas.core.frame.DataFrame'>\n",
       "7    <class 'pandas.core.frame.DataFrame'>\n",
       "8    <class 'pandas.core.frame.DataFrame'>\n",
       "9    <class 'pandas.core.frame.DataFrame'>\n",
       "dtype: object"
      ]
     },
     "execution_count": 26,
     "metadata": {},
     "output_type": "execute_result"
    }
   ],
   "source": [
    "ddf_part.map_partitions(type).compute(assume_missing=True)\n"
   ]
  },
  {
   "cell_type": "code",
   "execution_count": 25,
   "metadata": {
    "execution": {
     "iopub.execute_input": "2020-10-03T18:38:43.647911Z",
     "iopub.status.busy": "2020-10-03T18:38:43.647493Z",
     "iopub.status.idle": "2020-10-03T18:38:43.665946Z",
     "shell.execute_reply": "2020-10-03T18:38:43.665406Z",
     "shell.execute_reply.started": "2020-10-03T18:38:43.647864Z"
    }
   },
   "outputs": [
    {
     "data": {
      "text/html": [
       "<div>\n",
       "<style scoped>\n",
       "    .dataframe tbody tr th:only-of-type {\n",
       "        vertical-align: middle;\n",
       "    }\n",
       "\n",
       "    .dataframe tbody tr th {\n",
       "        vertical-align: top;\n",
       "    }\n",
       "\n",
       "    .dataframe thead th {\n",
       "        text-align: right;\n",
       "    }\n",
       "</style>\n",
       "<table border=\"1\" class=\"dataframe\">\n",
       "  <thead>\n",
       "    <tr style=\"text-align: right;\">\n",
       "      <th></th>\n",
       "      <th>date</th>\n",
       "      <th>temp</th>\n",
       "      <th>wind</th>\n",
       "      <th>rainfall</th>\n",
       "      <th>humidity</th>\n",
       "    </tr>\n",
       "  </thead>\n",
       "  <tbody>\n",
       "    <tr>\n",
       "      <th>0</th>\n",
       "      <td>19900101</td>\n",
       "      <td>28.4</td>\n",
       "      <td>17.96</td>\n",
       "      <td>20.4</td>\n",
       "      <td>32.18</td>\n",
       "    </tr>\n",
       "    <tr>\n",
       "      <th>1</th>\n",
       "      <td>19900102</td>\n",
       "      <td>35.5</td>\n",
       "      <td>2.23</td>\n",
       "      <td>0.0</td>\n",
       "      <td>22.84</td>\n",
       "    </tr>\n",
       "    <tr>\n",
       "      <th>2</th>\n",
       "      <td>19900103</td>\n",
       "      <td>17.4</td>\n",
       "      <td>9.06</td>\n",
       "      <td>0.0</td>\n",
       "      <td>29.38</td>\n",
       "    </tr>\n",
       "    <tr>\n",
       "      <th>3</th>\n",
       "      <td>19900104</td>\n",
       "      <td>28.4</td>\n",
       "      <td>1.57</td>\n",
       "      <td>0.0</td>\n",
       "      <td>26.30</td>\n",
       "    </tr>\n",
       "    <tr>\n",
       "      <th>4</th>\n",
       "      <td>19900105</td>\n",
       "      <td>28.3</td>\n",
       "      <td>0.30</td>\n",
       "      <td>0.0</td>\n",
       "      <td>26.75</td>\n",
       "    </tr>\n",
       "  </tbody>\n",
       "</table>\n",
       "</div>"
      ],
      "text/plain": [
       "       date  temp   wind  rainfall  humidity\n",
       "0  19900101  28.4  17.96      20.4     32.18\n",
       "1  19900102  35.5   2.23       0.0     22.84\n",
       "2  19900103  17.4   9.06       0.0     29.38\n",
       "3  19900104  28.4   1.57       0.0     26.30\n",
       "4  19900105  28.3   0.30       0.0     26.75"
      ]
     },
     "execution_count": 25,
     "metadata": {},
     "output_type": "execute_result"
    }
   ],
   "source": [
    "ddf.head()\n"
   ]
  },
  {
   "cell_type": "markdown",
   "metadata": {},
   "source": [
    ">### Partitions/Chunks and Tasks\n",
    "\n",
    "Remember that Dask is a scheduler for regular Python functions operating on (and producing) regular Python objects.\n",
    "\n",
    "Your partitions, chunks, or data segments should be small enough to comfortably fit in RAM for each worker thread/core.\n",
    "\n",
    "That is...\n",
    "* if you have a 1GB worker with 1 core, want to keep your partitions below 1GB\n",
    "* with 2 x 1 GB workers with 1 cores, we still want partitions below 1GB\n",
    "* with n x 4 GB workers with 2 cores per worker, we want partitions below 2 GB\n",
    "\n",
    "It's also good to take into account that more memory may be used for operations than the data chunk size itself, and that it's helpful to have a few chunks of data available to keep Dask's worker cores busy. \n",
    "\n",
    "So we might want to take those numbers above and make them 2-4x smaller (or, equivalently, create 2-4x as many partitions).\n",
    "\n",
    "Generally speaking, a lot of tasks is not a bad thing. Scheduling overhead for each additional task is typically less than 1 millisecond, and can be a lot less.\n",
    "\n",
    "That said, if you have, say, a billion tasks, those milliseconds will add up to minutes. In that case you may want to simplify your task graph or use larger (and hence fewer) partitions/chunks."
   ]
  },
  {
   "cell_type": "code",
   "execution_count": null,
   "metadata": {},
   "outputs": [],
   "source": []
  }
 ],
 "metadata": {
  "kernelspec": {
   "display_name": "env",
   "language": "python",
   "name": "env"
  },
  "language_info": {
   "codemirror_mode": {
    "name": "ipython",
    "version": 3
   },
   "file_extension": ".py",
   "mimetype": "text/x-python",
   "name": "python",
   "nbconvert_exporter": "python",
   "pygments_lexer": "ipython3",
   "version": "3.8.5"
  }
 },
 "nbformat": 4,
 "nbformat_minor": 4
}
