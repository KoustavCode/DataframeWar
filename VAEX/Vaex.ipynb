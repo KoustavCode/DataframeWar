{
 "cells": [
  {
   "cell_type": "code",
   "execution_count": 1,
   "metadata": {
    "execution": {
     "iopub.execute_input": "2021-06-14T18:18:38.816946Z",
     "iopub.status.busy": "2021-06-14T18:18:38.815768Z",
     "iopub.status.idle": "2021-06-14T18:18:39.705173Z",
     "shell.execute_reply": "2021-06-14T18:18:39.704767Z",
     "shell.execute_reply.started": "2021-06-14T18:18:38.816647Z"
    }
   },
   "outputs": [],
   "source": [
    "import vaex\n",
    "import numpy as np\n",
    "%matplotlib inline"
   ]
  },
  {
   "cell_type": "code",
   "execution_count": 2,
   "metadata": {
    "execution": {
     "iopub.execute_input": "2021-06-14T18:18:40.686810Z",
     "iopub.status.busy": "2021-06-14T18:18:40.686136Z",
     "iopub.status.idle": "2021-06-14T18:19:11.283827Z",
     "shell.execute_reply": "2021-06-14T18:19:11.282252Z",
     "shell.execute_reply.started": "2021-06-14T18:18:40.686733Z"
    }
   },
   "outputs": [
    {
     "name": "stderr",
     "output_type": "stream",
     "text": [
      "/home/koustav/Documents/DataframeWar/env/lib/python3.8/site-packages/IPython/core/interactiveshell.py:3417: DtypeWarning: Columns (6) have mixed types.Specify dtype option on import or set low_memory=False.\n",
      "  exec(code_obj, self.user_global_ns, self.user_ns)\n"
     ]
    }
   ],
   "source": [
    "# df_taxi = vaex.read_csv('/home/koustav/Documents/DataframeWar/Data/yellow_tripdata_2020-01.csv', copy_index=False)\n",
    "df_taxi = vaex.from_csv('/home/koustav/Documents/DataframeWar/Data/yellow_tripdata_2020-01.csv', convert=True, chunk_size=5_000_000)"
   ]
  },
  {
   "cell_type": "code",
   "execution_count": 3,
   "metadata": {
    "execution": {
     "iopub.execute_input": "2021-06-14T18:19:35.115314Z",
     "iopub.status.busy": "2021-06-14T18:19:35.115164Z",
     "iopub.status.idle": "2021-06-14T18:19:35.155139Z",
     "shell.execute_reply": "2021-06-14T18:19:35.153868Z",
     "shell.execute_reply.started": "2021-06-14T18:19:35.115298Z"
    }
   },
   "outputs": [
    {
     "data": {
      "text/html": [
       "<table>\n",
       "<thead>\n",
       "<tr><th>#                            </th><th style=\"text-align: right;\">  VendorID</th><th>tpep_pickup_datetime  </th><th>tpep_dropoff_datetime  </th><th style=\"text-align: right;\">  passenger_count</th><th style=\"text-align: right;\">  trip_distance</th><th style=\"text-align: right;\">  RatecodeID</th><th>store_and_fwd_flag  </th><th style=\"text-align: right;\">  PULocationID</th><th style=\"text-align: right;\">  DOLocationID</th><th style=\"text-align: right;\">  payment_type</th><th style=\"text-align: right;\">  fare_amount</th><th style=\"text-align: right;\">  extra</th><th style=\"text-align: right;\">  mta_tax</th><th style=\"text-align: right;\">  tip_amount</th><th style=\"text-align: right;\">  tolls_amount</th><th style=\"text-align: right;\">  improvement_surcharge</th><th style=\"text-align: right;\">  total_amount</th><th style=\"text-align: right;\">  congestion_surcharge</th></tr>\n",
       "</thead>\n",
       "<tbody>\n",
       "<tr><td><i style='opacity: 0.6'>0</i></td><td style=\"text-align: right;\">         1</td><td>2020-01-01 00:28:15   </td><td>2020-01-01 00:33:03    </td><td style=\"text-align: right;\">                1</td><td style=\"text-align: right;\">           1.2 </td><td style=\"text-align: right;\">           1</td><td>N                   </td><td style=\"text-align: right;\">           238</td><td style=\"text-align: right;\">           239</td><td style=\"text-align: right;\">             1</td><td style=\"text-align: right;\">         6   </td><td style=\"text-align: right;\">    3  </td><td style=\"text-align: right;\">      0.5</td><td style=\"text-align: right;\">        1.47</td><td style=\"text-align: right;\">             0</td><td style=\"text-align: right;\">                    0.3</td><td style=\"text-align: right;\">         11.27</td><td style=\"text-align: right;\">                   2.5</td></tr>\n",
       "<tr><td><i style='opacity: 0.6'>1</i></td><td style=\"text-align: right;\">         1</td><td>2020-01-01 00:35:39   </td><td>2020-01-01 00:43:04    </td><td style=\"text-align: right;\">                1</td><td style=\"text-align: right;\">           1.2 </td><td style=\"text-align: right;\">           1</td><td>N                   </td><td style=\"text-align: right;\">           239</td><td style=\"text-align: right;\">           238</td><td style=\"text-align: right;\">             1</td><td style=\"text-align: right;\">         7   </td><td style=\"text-align: right;\">    3  </td><td style=\"text-align: right;\">      0.5</td><td style=\"text-align: right;\">        1.5 </td><td style=\"text-align: right;\">             0</td><td style=\"text-align: right;\">                    0.3</td><td style=\"text-align: right;\">         12.3 </td><td style=\"text-align: right;\">                   2.5</td></tr>\n",
       "<tr><td><i style='opacity: 0.6'>2</i></td><td style=\"text-align: right;\">         1</td><td>2020-01-01 00:47:41   </td><td>2020-01-01 00:53:52    </td><td style=\"text-align: right;\">                1</td><td style=\"text-align: right;\">           0.6 </td><td style=\"text-align: right;\">           1</td><td>N                   </td><td style=\"text-align: right;\">           238</td><td style=\"text-align: right;\">           238</td><td style=\"text-align: right;\">             1</td><td style=\"text-align: right;\">         6   </td><td style=\"text-align: right;\">    3  </td><td style=\"text-align: right;\">      0.5</td><td style=\"text-align: right;\">        1   </td><td style=\"text-align: right;\">             0</td><td style=\"text-align: right;\">                    0.3</td><td style=\"text-align: right;\">         10.8 </td><td style=\"text-align: right;\">                   2.5</td></tr>\n",
       "<tr><td><i style='opacity: 0.6'>3</i></td><td style=\"text-align: right;\">         1</td><td>2020-01-01 00:55:23   </td><td>2020-01-01 01:00:14    </td><td style=\"text-align: right;\">                1</td><td style=\"text-align: right;\">           0.8 </td><td style=\"text-align: right;\">           1</td><td>N                   </td><td style=\"text-align: right;\">           238</td><td style=\"text-align: right;\">           151</td><td style=\"text-align: right;\">             1</td><td style=\"text-align: right;\">         5.5 </td><td style=\"text-align: right;\">    0.5</td><td style=\"text-align: right;\">      0.5</td><td style=\"text-align: right;\">        1.36</td><td style=\"text-align: right;\">             0</td><td style=\"text-align: right;\">                    0.3</td><td style=\"text-align: right;\">          8.16</td><td style=\"text-align: right;\">                   0  </td></tr>\n",
       "<tr><td><i style='opacity: 0.6'>4</i></td><td style=\"text-align: right;\">         2</td><td>2020-01-01 00:01:58   </td><td>2020-01-01 00:04:16    </td><td style=\"text-align: right;\">                1</td><td style=\"text-align: right;\">           0   </td><td style=\"text-align: right;\">           1</td><td>N                   </td><td style=\"text-align: right;\">           193</td><td style=\"text-align: right;\">           193</td><td style=\"text-align: right;\">             2</td><td style=\"text-align: right;\">         3.5 </td><td style=\"text-align: right;\">    0.5</td><td style=\"text-align: right;\">      0.5</td><td style=\"text-align: right;\">        0   </td><td style=\"text-align: right;\">             0</td><td style=\"text-align: right;\">                    0.3</td><td style=\"text-align: right;\">          4.8 </td><td style=\"text-align: right;\">                   0  </td></tr>\n",
       "<tr><td><i style='opacity: 0.6'>5</i></td><td style=\"text-align: right;\">         2</td><td>2020-01-01 00:09:44   </td><td>2020-01-01 00:10:37    </td><td style=\"text-align: right;\">                1</td><td style=\"text-align: right;\">           0.03</td><td style=\"text-align: right;\">           1</td><td>N                   </td><td style=\"text-align: right;\">             7</td><td style=\"text-align: right;\">           193</td><td style=\"text-align: right;\">             2</td><td style=\"text-align: right;\">         2.5 </td><td style=\"text-align: right;\">    0.5</td><td style=\"text-align: right;\">      0.5</td><td style=\"text-align: right;\">        0   </td><td style=\"text-align: right;\">             0</td><td style=\"text-align: right;\">                    0.3</td><td style=\"text-align: right;\">          3.8 </td><td style=\"text-align: right;\">                   0  </td></tr>\n",
       "<tr><td><i style='opacity: 0.6'>6</i></td><td style=\"text-align: right;\">         2</td><td>2020-01-01 00:39:25   </td><td>2020-01-01 00:39:29    </td><td style=\"text-align: right;\">                1</td><td style=\"text-align: right;\">           0   </td><td style=\"text-align: right;\">           1</td><td>N                   </td><td style=\"text-align: right;\">           193</td><td style=\"text-align: right;\">           193</td><td style=\"text-align: right;\">             1</td><td style=\"text-align: right;\">         2.5 </td><td style=\"text-align: right;\">    0.5</td><td style=\"text-align: right;\">      0.5</td><td style=\"text-align: right;\">        0.01</td><td style=\"text-align: right;\">             0</td><td style=\"text-align: right;\">                    0.3</td><td style=\"text-align: right;\">          3.81</td><td style=\"text-align: right;\">                   0  </td></tr>\n",
       "<tr><td><i style='opacity: 0.6'>7</i></td><td style=\"text-align: right;\">         2</td><td>2019-12-18 15:27:49   </td><td>2019-12-18 15:28:59    </td><td style=\"text-align: right;\">                1</td><td style=\"text-align: right;\">           0   </td><td style=\"text-align: right;\">           5</td><td>N                   </td><td style=\"text-align: right;\">           193</td><td style=\"text-align: right;\">           193</td><td style=\"text-align: right;\">             1</td><td style=\"text-align: right;\">         0.01</td><td style=\"text-align: right;\">    0  </td><td style=\"text-align: right;\">      0  </td><td style=\"text-align: right;\">        0   </td><td style=\"text-align: right;\">             0</td><td style=\"text-align: right;\">                    0.3</td><td style=\"text-align: right;\">          2.81</td><td style=\"text-align: right;\">                   2.5</td></tr>\n",
       "<tr><td><i style='opacity: 0.6'>8</i></td><td style=\"text-align: right;\">         2</td><td>2019-12-18 15:30:35   </td><td>2019-12-18 15:31:35    </td><td style=\"text-align: right;\">                4</td><td style=\"text-align: right;\">           0   </td><td style=\"text-align: right;\">           1</td><td>N                   </td><td style=\"text-align: right;\">           193</td><td style=\"text-align: right;\">           193</td><td style=\"text-align: right;\">             1</td><td style=\"text-align: right;\">         2.5 </td><td style=\"text-align: right;\">    0.5</td><td style=\"text-align: right;\">      0.5</td><td style=\"text-align: right;\">        0   </td><td style=\"text-align: right;\">             0</td><td style=\"text-align: right;\">                    0.3</td><td style=\"text-align: right;\">          6.3 </td><td style=\"text-align: right;\">                   2.5</td></tr>\n",
       "<tr><td><i style='opacity: 0.6'>9</i></td><td style=\"text-align: right;\">         1</td><td>2020-01-01 00:29:01   </td><td>2020-01-01 00:40:28    </td><td style=\"text-align: right;\">                2</td><td style=\"text-align: right;\">           0.7 </td><td style=\"text-align: right;\">           1</td><td>N                   </td><td style=\"text-align: right;\">           246</td><td style=\"text-align: right;\">            48</td><td style=\"text-align: right;\">             1</td><td style=\"text-align: right;\">         8   </td><td style=\"text-align: right;\">    3  </td><td style=\"text-align: right;\">      0.5</td><td style=\"text-align: right;\">        2.35</td><td style=\"text-align: right;\">             0</td><td style=\"text-align: right;\">                    0.3</td><td style=\"text-align: right;\">         14.15</td><td style=\"text-align: right;\">                   2.5</td></tr>\n",
       "</tbody>\n",
       "</table>"
      ],
      "text/plain": [
       "  #    VendorID  tpep_pickup_datetime    tpep_dropoff_datetime      passenger_count    trip_distance    RatecodeID  store_and_fwd_flag      PULocationID    DOLocationID    payment_type    fare_amount    extra    mta_tax    tip_amount    tolls_amount    improvement_surcharge    total_amount    congestion_surcharge\n",
       "  0           1  2020-01-01 00:28:15     2020-01-01 00:33:03                      1             1.2              1  N                                238             239               1           6         3          0.5          1.47               0                      0.3           11.27                     2.5\n",
       "  1           1  2020-01-01 00:35:39     2020-01-01 00:43:04                      1             1.2              1  N                                239             238               1           7         3          0.5          1.5                0                      0.3           12.3                      2.5\n",
       "  2           1  2020-01-01 00:47:41     2020-01-01 00:53:52                      1             0.6              1  N                                238             238               1           6         3          0.5          1                  0                      0.3           10.8                      2.5\n",
       "  3           1  2020-01-01 00:55:23     2020-01-01 01:00:14                      1             0.8              1  N                                238             151               1           5.5       0.5        0.5          1.36               0                      0.3            8.16                     0\n",
       "  4           2  2020-01-01 00:01:58     2020-01-01 00:04:16                      1             0                1  N                                193             193               2           3.5       0.5        0.5          0                  0                      0.3            4.8                      0\n",
       "  5           2  2020-01-01 00:09:44     2020-01-01 00:10:37                      1             0.03             1  N                                  7             193               2           2.5       0.5        0.5          0                  0                      0.3            3.8                      0\n",
       "  6           2  2020-01-01 00:39:25     2020-01-01 00:39:29                      1             0                1  N                                193             193               1           2.5       0.5        0.5          0.01               0                      0.3            3.81                     0\n",
       "  7           2  2019-12-18 15:27:49     2019-12-18 15:28:59                      1             0                5  N                                193             193               1           0.01      0          0            0                  0                      0.3            2.81                     2.5\n",
       "  8           2  2019-12-18 15:30:35     2019-12-18 15:31:35                      4             0                1  N                                193             193               1           2.5       0.5        0.5          0                  0                      0.3            6.3                      2.5\n",
       "  9           1  2020-01-01 00:29:01     2020-01-01 00:40:28                      2             0.7              1  N                                246              48               1           8         3          0.5          2.35               0                      0.3           14.15                     2.5"
      ]
     },
     "execution_count": 3,
     "metadata": {},
     "output_type": "execute_result"
    }
   ],
   "source": [
    "df_taxi.head()"
   ]
  },
  {
   "cell_type": "code",
   "execution_count": 4,
   "metadata": {
    "execution": {
     "iopub.execute_input": "2021-06-14T18:19:40.507057Z",
     "iopub.status.busy": "2021-06-14T18:19:40.506410Z",
     "iopub.status.idle": "2021-06-14T18:19:40.525560Z",
     "shell.execute_reply": "2021-06-14T18:19:40.524950Z",
     "shell.execute_reply.started": "2021-06-14T18:19:40.506985Z"
    }
   },
   "outputs": [
    {
     "data": {
      "text/html": [
       "<style>.vaex-description pre {\n",
       "          max-width : 450px;\n",
       "          white-space : nowrap;\n",
       "          overflow : hidden;\n",
       "          text-overflow: ellipsis;\n",
       "        }\n",
       "\n",
       "        .vex-description pre:hover {\n",
       "          max-width : initial;\n",
       "          white-space: pre;\n",
       "        }</style>"
      ],
      "text/plain": [
       "<IPython.core.display.HTML object>"
      ]
     },
     "metadata": {},
     "output_type": "display_data"
    },
    {
     "data": {
      "text/html": [
       "<div><h2>yellow_tripdata_2020-01.csv</h2> <b>rows</b>: 6,405,008</div><div><b>path</b>: <i>/home/koustav/Documents/DataframeWar/Data/yellow_tripdata_2020-01.csv.hdf5</i></div><div><b>Description</b>: file exported by vaex, by user koustav, on date 2021-06-14 23:49:11.265370, from source /has/no/path/arrays-/has/no/path/arrays</div><h2>Columns:</h2><table class='table-striped'><thead><tr><th>column</th><th>type</th><th>unit</th><th>description</th><th>expression</th></tr></thead><tr><td>VendorID</td><td>float64</td><td></td><td ><pre></pre></td><td></td></tr><tr><td>tpep_pickup_datetime</td><td>str</td><td></td><td ><pre></pre></td><td></td></tr><tr><td>tpep_dropoff_datetime</td><td>str</td><td></td><td ><pre></pre></td><td></td></tr><tr><td>passenger_count</td><td>float64</td><td></td><td ><pre></pre></td><td></td></tr><tr><td>trip_distance</td><td>float64</td><td></td><td ><pre></pre></td><td></td></tr><tr><td>RatecodeID</td><td>float64</td><td></td><td ><pre></pre></td><td></td></tr><tr><td>store_and_fwd_flag</td><td>str</td><td></td><td ><pre></pre></td><td></td></tr><tr><td>PULocationID</td><td>int64</td><td></td><td ><pre></pre></td><td></td></tr><tr><td>DOLocationID</td><td>int64</td><td></td><td ><pre></pre></td><td></td></tr><tr><td>payment_type</td><td>float64</td><td></td><td ><pre></pre></td><td></td></tr><tr><td>fare_amount</td><td>float64</td><td></td><td ><pre></pre></td><td></td></tr><tr><td>extra</td><td>float64</td><td></td><td ><pre></pre></td><td></td></tr><tr><td>mta_tax</td><td>float64</td><td></td><td ><pre></pre></td><td></td></tr><tr><td>tip_amount</td><td>float64</td><td></td><td ><pre></pre></td><td></td></tr><tr><td>tolls_amount</td><td>float64</td><td></td><td ><pre></pre></td><td></td></tr><tr><td>improvement_surcharge</td><td>float64</td><td></td><td ><pre></pre></td><td></td></tr><tr><td>total_amount</td><td>float64</td><td></td><td ><pre></pre></td><td></td></tr><tr><td>congestion_surcharge</td><td>float64</td><td></td><td ><pre></pre></td><td></td></tr></table><h2>Data:</h2><table>\n",
       "<thead>\n",
       "<tr><th>#                                    </th><th>VendorID  </th><th>tpep_pickup_datetime  </th><th>tpep_dropoff_datetime  </th><th>passenger_count  </th><th>trip_distance  </th><th>RatecodeID  </th><th>store_and_fwd_flag  </th><th>PULocationID  </th><th>DOLocationID  </th><th>payment_type  </th><th>fare_amount  </th><th>extra  </th><th>mta_tax  </th><th>tip_amount  </th><th>tolls_amount  </th><th>improvement_surcharge  </th><th>total_amount  </th><th>congestion_surcharge  </th></tr>\n",
       "</thead>\n",
       "<tbody>\n",
       "<tr><td><i style='opacity: 0.6'>0</i>        </td><td>1.0       </td><td>2020-01-01 00:28:15   </td><td>2020-01-01 00:33:03    </td><td>1.0              </td><td>1.2            </td><td>1.0         </td><td>N                   </td><td>238           </td><td>239           </td><td>1.0           </td><td>6.0          </td><td>3.0    </td><td>0.5      </td><td>1.47        </td><td>0.0           </td><td>0.3                    </td><td>11.27         </td><td>2.5                   </td></tr>\n",
       "<tr><td><i style='opacity: 0.6'>1</i>        </td><td>1.0       </td><td>2020-01-01 00:35:39   </td><td>2020-01-01 00:43:04    </td><td>1.0              </td><td>1.2            </td><td>1.0         </td><td>N                   </td><td>239           </td><td>238           </td><td>1.0           </td><td>7.0          </td><td>3.0    </td><td>0.5      </td><td>1.5         </td><td>0.0           </td><td>0.3                    </td><td>12.3          </td><td>2.5                   </td></tr>\n",
       "<tr><td><i style='opacity: 0.6'>2</i>        </td><td>1.0       </td><td>2020-01-01 00:47:41   </td><td>2020-01-01 00:53:52    </td><td>1.0              </td><td>0.6            </td><td>1.0         </td><td>N                   </td><td>238           </td><td>238           </td><td>1.0           </td><td>6.0          </td><td>3.0    </td><td>0.5      </td><td>1.0         </td><td>0.0           </td><td>0.3                    </td><td>10.8          </td><td>2.5                   </td></tr>\n",
       "<tr><td><i style='opacity: 0.6'>3</i>        </td><td>1.0       </td><td>2020-01-01 00:55:23   </td><td>2020-01-01 01:00:14    </td><td>1.0              </td><td>0.8            </td><td>1.0         </td><td>N                   </td><td>238           </td><td>151           </td><td>1.0           </td><td>5.5          </td><td>0.5    </td><td>0.5      </td><td>1.36        </td><td>0.0           </td><td>0.3                    </td><td>8.16          </td><td>0.0                   </td></tr>\n",
       "<tr><td><i style='opacity: 0.6'>4</i>        </td><td>2.0       </td><td>2020-01-01 00:01:58   </td><td>2020-01-01 00:04:16    </td><td>1.0              </td><td>0.0            </td><td>1.0         </td><td>N                   </td><td>193           </td><td>193           </td><td>2.0           </td><td>3.5          </td><td>0.5    </td><td>0.5      </td><td>0.0         </td><td>0.0           </td><td>0.3                    </td><td>4.8           </td><td>0.0                   </td></tr>\n",
       "<tr><td>...                                  </td><td>...       </td><td>...                   </td><td>...                    </td><td>...              </td><td>...            </td><td>...         </td><td>...                 </td><td>...           </td><td>...           </td><td>...           </td><td>...          </td><td>...    </td><td>...      </td><td>...         </td><td>...           </td><td>...                    </td><td>...           </td><td>...                   </td></tr>\n",
       "<tr><td><i style='opacity: 0.6'>6,405,003</i></td><td>nan       </td><td>2020-01-31 22:51:00   </td><td>2020-01-31 23:22:00    </td><td>nan              </td><td>3.24           </td><td>nan         </td><td>None                </td><td>237           </td><td>234           </td><td>nan           </td><td>17.59        </td><td>2.75   </td><td>0.5      </td><td>0.0         </td><td>0.0           </td><td>0.3                    </td><td>21.14         </td><td>0.0                   </td></tr>\n",
       "<tr><td><i style='opacity: 0.6'>6,405,004</i></td><td>nan       </td><td>2020-01-31 22:10:00   </td><td>2020-01-31 23:26:00    </td><td>nan              </td><td>22.13          </td><td>nan         </td><td>None                </td><td>259           </td><td>45            </td><td>nan           </td><td>46.67        </td><td>2.75   </td><td>0.5      </td><td>0.0         </td><td>12.24         </td><td>0.3                    </td><td>62.46         </td><td>0.0                   </td></tr>\n",
       "<tr><td><i style='opacity: 0.6'>6,405,005</i></td><td>nan       </td><td>2020-01-31 22:50:07   </td><td>2020-01-31 23:17:57    </td><td>nan              </td><td>10.51          </td><td>nan         </td><td>None                </td><td>137           </td><td>169           </td><td>nan           </td><td>48.85        </td><td>2.75   </td><td>0.0      </td><td>0.0         </td><td>0.0           </td><td>0.3                    </td><td>51.9          </td><td>0.0                   </td></tr>\n",
       "<tr><td><i style='opacity: 0.6'>6,405,006</i></td><td>nan       </td><td>2020-01-31 22:25:53   </td><td>2020-01-31 22:48:32    </td><td>nan              </td><td>5.49           </td><td>nan         </td><td>None                </td><td>50            </td><td>42            </td><td>nan           </td><td>27.17        </td><td>2.75   </td><td>0.0      </td><td>0.0         </td><td>0.0           </td><td>0.3                    </td><td>30.22         </td><td>0.0                   </td></tr>\n",
       "<tr><td><i style='opacity: 0.6'>6,405,007</i></td><td>nan       </td><td>2020-01-31 22:44:00   </td><td>2020-01-31 23:06:00    </td><td>nan              </td><td>11.6           </td><td>nan         </td><td>None                </td><td>179           </td><td>205           </td><td>nan           </td><td>54.56        </td><td>2.75   </td><td>0.5      </td><td>0.0         </td><td>0.0           </td><td>0.3                    </td><td>58.11         </td><td>0.0                   </td></tr>\n",
       "</tbody>\n",
       "</table>"
      ],
      "text/plain": [
       "<IPython.core.display.HTML object>"
      ]
     },
     "metadata": {},
     "output_type": "display_data"
    }
   ],
   "source": [
    "df_taxi.info(description=True)"
   ]
  },
  {
   "cell_type": "code",
   "execution_count": 5,
   "metadata": {
    "execution": {
     "iopub.execute_input": "2021-06-14T18:21:14.676870Z",
     "iopub.status.busy": "2021-06-14T18:21:14.676696Z",
     "iopub.status.idle": "2021-06-14T18:21:14.679796Z",
     "shell.execute_reply": "2021-06-14T18:21:14.679396Z",
     "shell.execute_reply.started": "2021-06-14T18:21:14.676842Z"
    }
   },
   "outputs": [
    {
     "data": {
      "text/plain": [
       "vaex.hdf5.dataset.Hdf5MemoryMapped"
      ]
     },
     "execution_count": 5,
     "metadata": {},
     "output_type": "execute_result"
    }
   ],
   "source": [
    "type(df_taxi)"
   ]
  },
  {
   "cell_type": "code",
   "execution_count": null,
   "metadata": {},
   "outputs": [],
   "source": []
  }
 ],
 "metadata": {
  "kernelspec": {
   "display_name": "env",
   "language": "python",
   "name": "env"
  },
  "language_info": {
   "codemirror_mode": {
    "name": "ipython",
    "version": 3
   },
   "file_extension": ".py",
   "mimetype": "text/x-python",
   "name": "python",
   "nbconvert_exporter": "python",
   "pygments_lexer": "ipython3",
   "version": "3.8.5"
  }
 },
 "nbformat": 4,
 "nbformat_minor": 4
}
